{
  "nbformat": 4,
  "nbformat_minor": 0,
  "metadata": {
    "colab": {
      "provenance": [],
      "toc_visible": true
    },
    "kernelspec": {
      "display_name": "Python 3",
      "language": "python",
      "name": "python3"
    },
    "language_info": {
      "codemirror_mode": {
        "name": "ipython",
        "version": 3
      },
      "file_extension": ".py",
      "mimetype": "text/x-python",
      "name": "python",
      "nbconvert_exporter": "python",
      "pygments_lexer": "ipython3",
      "version": "3.8.2"
    },
    "toc": {
      "base_numbering": 1,
      "nav_menu": {},
      "number_sections": true,
      "sideBar": true,
      "skip_h1_title": false,
      "title_cell": "Table of Contents",
      "title_sidebar": "Contents",
      "toc_cell": false,
      "toc_position": {},
      "toc_section_display": true,
      "toc_window_display": true
    },
    "varInspector": {
      "cols": {
        "lenName": 16,
        "lenType": 16,
        "lenVar": 40
      },
      "kernels_config": {
        "python": {
          "delete_cmd_postfix": "",
          "delete_cmd_prefix": "del ",
          "library": "var_list.py",
          "varRefreshCmd": "print(var_dic_list())"
        },
        "r": {
          "delete_cmd_postfix": ") ",
          "delete_cmd_prefix": "rm(",
          "library": "var_list.r",
          "varRefreshCmd": "cat(var_dic_list()) "
        }
      },
      "types_to_exclude": [
        "module",
        "function",
        "builtin_function_or_method",
        "instance",
        "_Feature"
      ],
      "window_display": false
    }
  },
  "cells": [
    {
      "cell_type": "markdown",
      "metadata": {
        "id": "AvbWK0iQsKZh"
      },
      "source": [
        "**Mengunduh file-file yang diperlukan**"
      ]
    },
    {
      "cell_type": "code",
      "metadata": {
        "id": "_rAm5rbQgAzk"
      },
      "source": [
        "!pip install -q dtreeviz"
      ],
      "execution_count": null,
      "outputs": []
    },
    {
      "cell_type": "code",
      "metadata": {
        "colab": {
          "base_uri": "https://localhost:8080/"
        },
        "id": "b6jgO2LVtroj",
        "outputId": "13d1ca43-8f0b-4b0e-9e47-4128f0b5c278"
      },
      "source": [
        "import urllib.request\n",
        "\n",
        "urllib.request.urlretrieve(\"https://raw.githubusercontent.com/Syauqi99/datadataworkshoppython/master/test_data(case1).csv\", \"test_data.csv\")\n",
        "urllib.request.urlretrieve(\"https://raw.githubusercontent.com/Syauqi99/datadataworkshoppython/master/train_data(case1).csv\", \"train_data.csv\")"
      ],
      "execution_count": null,
      "outputs": [
        {
          "output_type": "execute_result",
          "data": {
            "text/plain": [
              "('train_data.csv', <http.client.HTTPMessage at 0x7fea5f26de50>)"
            ]
          },
          "metadata": {
            "tags": []
          },
          "execution_count": 249
        }
      ]
    },
    {
      "cell_type": "code",
      "metadata": {
        "id": "B551sX8zfIFX"
      },
      "source": [
        "# memasukan library yang relevan\n",
        "import pandas as pd\n",
        "import numpy as np\n",
        "import matplotlib.pyplot as plt\n",
        "import seaborn as sns"
      ],
      "execution_count": null,
      "outputs": []
    },
    {
      "cell_type": "markdown",
      "metadata": {
        "id": "cicbJ_uJ_pA6"
      },
      "source": [
        "# Business Understanding\n"
      ]
    },
    {
      "cell_type": "markdown",
      "metadata": {
        "id": "_w212qzjDBk6"
      },
      "source": [
        "<p align=\"justify\">\n",
        "Pemerintah Washington D.C. menyediakan sepeda yang dapat disewa untuk berkeliling kota lewat program Capital Bikeshare-nya. Sepeda ini dapat diambil kapan saja dan dikembalikan kapan saja. Sepeda ditaruh pada suatu stasiun seperti pada Gambar 1. Apabila ingin meminjam sepeda maka harus menempelkan tiket kepada sepeda tersebut. Ada dua tipe tiket yaitu tiket jangka panjang dan tiket sekali jalan. Harga dari kedua tiket ini tidak diketahui.\n",
        "</p>\n",
        "\n",
        "<figure>\n",
        "<center>\n",
        "<img src=\"https://www.ase.org/sites/ase.org/files/styles/featured_blog/public/bike_share2_0_website.png?itok=lL_t-9r1\" width=\"500\" />\n",
        "<figcaption> Gambar 1 - Contoh Bikesharing (sumber: UC Berkley AIM) </figcaption></center>\n",
        "</figure>\n",
        "\n",
        "<p align=\"justify\">\n",
        "Saat ini pemerintah Washington D.C. ingin mengetahui tentang pola dari permintaan sepeda. Terutama mereka ingin tahu apakah perlu menambah jumlah sepeda dan kapan waktu yang baik untuk melakukan perawatan terhadap sepeda. Perlu diperhatikan bahwasannya pemerintah hanya bisa melakukan perawatan pada satu hari sekaligus.\n",
        "</p>\n",
        "\n",
        "<p align=\"justify\">\n",
        "Waktu perawatan yang tepat didefinisikan oleh pemerintah sebagai waktu saat demand cenderung sedikit sehingga tidak banyak terjadi lost sales. Untuk mengetahui hal ini pemerintah dapat membuat model prediksi variabel-variabel yang berkaitan dengan waktu dan cuaca sebagai variabel independen dan permintaan sepeda sebagai variabel dependen.\n",
        "</p>\n",
        "\n",
        "<p align=\"justify\">\n",
        "Objektif kedua adalah menentukan apakah perlu meningkatkan jumlah sepeda yang dimiliki. Agar pemerintah dapat menentukan peningkatan kapasitas sepeda maka yang harus dilakukan adalah memprediksi permintaan sepeda. Alhasil dapat ditentukan apakah perlu meningkatkan jumlah dari sepeda atau tidak. Model pertama yang digunakan untuk memprediksi permintaan dari variabel waktu dan cuaca dapat juga digunakan untuk kasus ini. Alhasil anda hanya perlu membuat satu buah model untuk menyelesaikan permasalahan ini yaitu:\n",
        "</p>\n",
        "\n",
        "<p align=\"center\">\n",
        "<b>“Model untuk memprediksi permintaan sepeda berdasarkan variabel waktu dan cuaca“ </b>\n",
        "</p>"
      ]
    },
    {
      "cell_type": "markdown",
      "metadata": {
        "id": "-WzFy5CMfRKA"
      },
      "source": [
        "# Data Understanding\n",
        "<p align=\"justify\">\n",
        "Tahap awal setelah memahami tujuan bisnis yang ingin dicapai dengan bantuan data mining maka langkah selanjutnya adalah memahami data yang tersedia. Untuk melakukan hal ini kita akan menggunakan dua buah <i>library</i> yaitu matplotlib dan pandas.\n",
        "</p>\n",
        "<br>\n",
        "\n",
        "<table style=\"width: 528px;\">\n",
        "<tbody>\n",
        "<tr style=\"height: 41px;\">\n",
        "<td style=\"width: 24px; height: 41px;\"><strong>No</strong></td>\n",
        "<td style=\"width: 112px; height: 41px;\"><strong>&nbsp;Nama Kolom</strong></td>\n",
        "<td style=\"width: 391px; height: 41px;\"><strong>Deskripsi</strong></td>\n",
        "</tr>\n",
        "<tr style=\"height: 21px;\">\n",
        "<td style=\"width: 24px; height: 21px;\">1</td>\n",
        "<td style=\"width: 112px; height: 21px;\">&nbsp;datetime</td>\n",
        "<td style=\"width: 391px; height: 21px;\">Tahun &ndash; bulan &ndash; hari jam</td>\n",
        "</tr>\n",
        "<tr style=\"height: 21px;\">\n",
        "<td style=\"width: 24px; height: 21px;\">2</td>\n",
        "<td style=\"width: 112px; height: 21px;\">&nbsp;season</td>\n",
        "<td style=\"width: 391px; height: 21px;\">1 = musim semi<br />2 = musim panas <br />3 = musim kemarau<br />4 = musing dingin</td>\n",
        "</tr>\n",
        "<tr style=\"height: 21px;\">\n",
        "<td style=\"width: 24px; height: 21px;\">3</td>\n",
        "<td style=\"width: 112px; height: 21px;\">&nbsp;workingday</td>\n",
        "<td style=\"width: 391px; height: 21px;\">Hari kerja umum yaitu saat bukan hari libur dan bukan weekend</td>\n",
        "</tr>\n",
        "<tr style=\"height: 21px;\">\n",
        "<td style=\"width: 24px; height: 21px;\">4</td>\n",
        "<td style=\"width: 112px; height: 21px;\">&nbsp;weather</td>\n",
        "<td style=\"width: 400px; height: 21px;\">1: Cerah, sedikit awan, sebagian berawan<br />2: Kabut + Mendung, Kabut + Sedikit awan, Kabut saja <br />3: Sedikit bersalju, gerimis + petir, gerimis + sedikit awan, <br />petir + berawan<br />4: Hujan lebat, Hujan badai, Badai salju, Hujan es</td>\n",
        "</tr>\n",
        "<tr style=\"height: 21px;\">\n",
        "<td style=\"width: 24px; height: 21px;\">5</td>\n",
        "<td style=\"width: 112px; height: 21px;\">&nbsp;temp</td>\n",
        "<td style=\"width: 391px; height: 21px;\">Temperatur rata-rata statsiun sepeda (Derajat Celcius)</td>\n",
        "</tr>\n",
        "<tr style=\"height: 21px;\">\n",
        "<td style=\"width: 24px; height: 21px;\">6</td>\n",
        "<td style=\"width: 112px; height: 21px;\">&nbsp;atemp</td>\n",
        "<td style=\"width: 391px; height: 21px;\">Temperatur yang dirasakan orang sekitar (Derajat Celcius)</td>\n",
        "</tr>\n",
        "<tr style=\"height: 21px;\">\n",
        "<td style=\"width: 24px; height: 21px;\">7</td>\n",
        "<td style=\"width: 112px; height: 21px;\">&nbsp;humidity</td>\n",
        "<td style=\"width: 391px; height: 21px;\">Tingkat kelembapan relatif</td>\n",
        "</tr>\n",
        "<tr style=\"height: 21px;\">\n",
        "<td style=\"width: 24px; height: 21px;\">8</td>\n",
        "<td style=\"width: 112px; height: 21px;\">&nbsp;windspeed</td>\n",
        "<td style=\"width: 391px; height: 21px;\">Kecepatan angin (satuan tidak diketahui)</td>\n",
        "</tr>\n",
        "<tr style=\"height: 21px;\">\n",
        "<td style=\"width: 24px; height: 21px;\">9</td>\n",
        "<td style=\"width: 112px; height: 21px;\">&nbsp;casual</td>\n",
        "<td style=\"width: 391px; height: 21px;\">Jumlah sepeda yang disewa oleh pembeli tiket sekali jalan</td>\n",
        "</tr>\n",
        "<tr style=\"height: 21px;\">\n",
        "<td style=\"width: 24px; height: 21px;\">10</td>\n",
        "<td style=\"width: 112px; height: 21px;\">&nbsp;registered</td>\n",
        "<td style=\"width: 391px; height: 21px;\">Jumlah sepeda yang disewa oleh pembeli tiket mingguan / bulanan / tahunan</td>\n",
        "</tr>\n",
        "<tr style=\"height: 21px;\">\n",
        "<td style=\"width: 24px; height: 21px;\">11</td>\n",
        "<td style=\"width: 112px; height: 21px;\">&nbsp;count</td>\n",
        "<td style=\"width: 391px; height: 21px;\">Total jumlah sepeda yang disewa</td>\n",
        "</tr>\n",
        "</tbody>\n",
        "</table>\n",
        "\n",
        "<p align='justify'>\n",
        "Tabel di atas menunjukkan penjelasan dari setiap kolom data. Tujuan akhir kita adalah membuat sebuah model. Model yang ingin kita buat akan memprediksi <i>count</i> alhasil <i>count</i>  sering disebut sebagai  <i>target variable</i> atau dalam statistik dependent variable. Untuk kolom lainnya yang digunakan untuk memprediksi permintaan sepeda (datetime, season, workingday, dll.) disebut sebagai predictor variables atau dalam statistik disebut independent variables. Pada modul ini kita ambil kesepakatan untuk memakai istilah <i>target variable</i> dan <i>predictor variables</i>. Untuk memahami datanya secara lebih lanjut maka kita harus mengolah data ini secara lebih jauh.\n",
        "</p>\n",
        "\n",
        "<p align='justify'>\n",
        "Pemerintah meminta kita untuk melakukan prediksi permintaan per jam biarpun pada akhirnya yang akan digunakan adalah permintaan per hari. Hal ini disebabkan pemerintah ingin juga mengetahui waktu yang tepat untuk melakukan <i>maintanance</i> baik terhadap sepeda ataupun <i>server</i>. Selain itu diberikan juga faktor cuaca mengingat prediksi cuaca sangat mudah didapat dan cuaca diduga akan berpengaruh terhadap permintaan.\n",
        "</p>\n",
        "\n",
        "<p align='justify'>\n",
        "Sebelum melakukan pengolahan data biasanya kita sudah membagi data menjadi dua buah. Pertama yaitu data train dan yang kedua yaitu data test. Data train merupakan data yang nanti akan digunakan untuk “melatih” model sedangkan data test digunakan untuk mengecek performansi dari model. Data test biasanya merupakan data setelah waktu analisis. Misalkan jika kita melakukan analisis hingga pembuatan model pada tanggal 28 Agustus 2020 maka data train adalah data yang tersedia hingga 28 Agustus 2020 sedangkan data test adalah data yang tersedia setelah 28 Agustus 2020.  \n",
        "\n",
        "Untuk kasus ini data train test dipisah berdasarkan awal dan akhir bulan. Untuk lebih detailnya akan kita lihat di bagian data exploration\n",
        "</p>"
      ]
    },
    {
      "cell_type": "markdown",
      "metadata": {
        "id": "i_zumaN3gZSU"
      },
      "source": [
        "## Loading Data\n",
        "<p align=\"justify\">\n",
        "Data yang kita miliki berformat tabel (csv, xlsx, dan lain-lain) alhasil digunakan pandas untuk membuka data pada program python. Data yang sudah dibuka akan ditaruh pada suatu variabel. Biasanya beberapa hal yang harus dilakukan setelah menaruh data pada variabel adalah melihat beberapa baris data dan melihat <i>summary</i> dari data yang dimiliki.\n",
        "</p>\n",
        "\n",
        "<p align=\"justify\">\n"
      ]
    },
    {
      "cell_type": "markdown",
      "metadata": {
        "id": "syEpPXHzBgBj"
      },
      "source": [
        "**1. Load data csv**"
      ]
    },
    {
      "cell_type": "code",
      "metadata": {
        "id": "XroFWtitfOl4"
      },
      "source": [
        "# loading data\n",
        "train = pd.read_csv(\"train_data.csv\")\n",
        "test = pd.read_csv(\"test_data.csv\")\n",
        "# untuk membuka data csv digunakan pd.read_csv\n",
        "\n",
        "# buat data duplikat untuk ditelaah lebih jauh\n",
        "data = pd.concat((train,test))"
      ],
      "execution_count": null,
      "outputs": []
    },
    {
      "cell_type": "markdown",
      "metadata": {
        "id": "GtFfoqsVBnjh"
      },
      "source": [
        "**2. Tampilkan Deskripsi Data**"
      ]
    },
    {
      "cell_type": "code",
      "metadata": {
        "id": "WGP8TZWNPTgW",
        "colab": {
          "base_uri": "https://localhost:8080/",
          "height": 300
        },
        "outputId": "4e08554f-7171-4672-ac69-6369448e6569"
      },
      "source": [
        "# Lihatlah penjelasan deskriptif dari data\n",
        "# pastikan kolom train dan test memiliki statistik yang mirip\n",
        "train.describe()"
      ],
      "execution_count": null,
      "outputs": [
        {
          "output_type": "execute_result",
          "data": {
            "text/html": [
              "<div>\n",
              "<style scoped>\n",
              "    .dataframe tbody tr th:only-of-type {\n",
              "        vertical-align: middle;\n",
              "    }\n",
              "\n",
              "    .dataframe tbody tr th {\n",
              "        vertical-align: top;\n",
              "    }\n",
              "\n",
              "    .dataframe thead th {\n",
              "        text-align: right;\n",
              "    }\n",
              "</style>\n",
              "<table border=\"1\" class=\"dataframe\">\n",
              "  <thead>\n",
              "    <tr style=\"text-align: right;\">\n",
              "      <th></th>\n",
              "      <th>season</th>\n",
              "      <th>holiday</th>\n",
              "      <th>workingday</th>\n",
              "      <th>weather</th>\n",
              "      <th>temp</th>\n",
              "      <th>atemp</th>\n",
              "      <th>humidity</th>\n",
              "      <th>windspeed</th>\n",
              "      <th>casual</th>\n",
              "      <th>registered</th>\n",
              "      <th>count</th>\n",
              "    </tr>\n",
              "  </thead>\n",
              "  <tbody>\n",
              "    <tr>\n",
              "      <th>count</th>\n",
              "      <td>10886.000000</td>\n",
              "      <td>10886.000000</td>\n",
              "      <td>10886.000000</td>\n",
              "      <td>10886.000000</td>\n",
              "      <td>10886.00000</td>\n",
              "      <td>10886.000000</td>\n",
              "      <td>10886.000000</td>\n",
              "      <td>10886.000000</td>\n",
              "      <td>10886.000000</td>\n",
              "      <td>10886.000000</td>\n",
              "      <td>10886.000000</td>\n",
              "    </tr>\n",
              "    <tr>\n",
              "      <th>mean</th>\n",
              "      <td>2.506614</td>\n",
              "      <td>0.028569</td>\n",
              "      <td>0.680875</td>\n",
              "      <td>1.418427</td>\n",
              "      <td>20.23086</td>\n",
              "      <td>23.655084</td>\n",
              "      <td>61.886460</td>\n",
              "      <td>12.799395</td>\n",
              "      <td>36.021955</td>\n",
              "      <td>155.552177</td>\n",
              "      <td>191.574132</td>\n",
              "    </tr>\n",
              "    <tr>\n",
              "      <th>std</th>\n",
              "      <td>1.116174</td>\n",
              "      <td>0.166599</td>\n",
              "      <td>0.466159</td>\n",
              "      <td>0.633839</td>\n",
              "      <td>7.79159</td>\n",
              "      <td>8.474601</td>\n",
              "      <td>19.245033</td>\n",
              "      <td>8.164537</td>\n",
              "      <td>49.960477</td>\n",
              "      <td>151.039033</td>\n",
              "      <td>181.144454</td>\n",
              "    </tr>\n",
              "    <tr>\n",
              "      <th>min</th>\n",
              "      <td>1.000000</td>\n",
              "      <td>0.000000</td>\n",
              "      <td>0.000000</td>\n",
              "      <td>1.000000</td>\n",
              "      <td>0.82000</td>\n",
              "      <td>0.760000</td>\n",
              "      <td>0.000000</td>\n",
              "      <td>0.000000</td>\n",
              "      <td>0.000000</td>\n",
              "      <td>0.000000</td>\n",
              "      <td>1.000000</td>\n",
              "    </tr>\n",
              "    <tr>\n",
              "      <th>25%</th>\n",
              "      <td>2.000000</td>\n",
              "      <td>0.000000</td>\n",
              "      <td>0.000000</td>\n",
              "      <td>1.000000</td>\n",
              "      <td>13.94000</td>\n",
              "      <td>16.665000</td>\n",
              "      <td>47.000000</td>\n",
              "      <td>7.001500</td>\n",
              "      <td>4.000000</td>\n",
              "      <td>36.000000</td>\n",
              "      <td>42.000000</td>\n",
              "    </tr>\n",
              "    <tr>\n",
              "      <th>50%</th>\n",
              "      <td>3.000000</td>\n",
              "      <td>0.000000</td>\n",
              "      <td>1.000000</td>\n",
              "      <td>1.000000</td>\n",
              "      <td>20.50000</td>\n",
              "      <td>24.240000</td>\n",
              "      <td>62.000000</td>\n",
              "      <td>12.998000</td>\n",
              "      <td>17.000000</td>\n",
              "      <td>118.000000</td>\n",
              "      <td>145.000000</td>\n",
              "    </tr>\n",
              "    <tr>\n",
              "      <th>75%</th>\n",
              "      <td>4.000000</td>\n",
              "      <td>0.000000</td>\n",
              "      <td>1.000000</td>\n",
              "      <td>2.000000</td>\n",
              "      <td>26.24000</td>\n",
              "      <td>31.060000</td>\n",
              "      <td>77.000000</td>\n",
              "      <td>16.997900</td>\n",
              "      <td>49.000000</td>\n",
              "      <td>222.000000</td>\n",
              "      <td>284.000000</td>\n",
              "    </tr>\n",
              "    <tr>\n",
              "      <th>max</th>\n",
              "      <td>4.000000</td>\n",
              "      <td>1.000000</td>\n",
              "      <td>1.000000</td>\n",
              "      <td>4.000000</td>\n",
              "      <td>41.00000</td>\n",
              "      <td>45.455000</td>\n",
              "      <td>100.000000</td>\n",
              "      <td>56.996900</td>\n",
              "      <td>367.000000</td>\n",
              "      <td>886.000000</td>\n",
              "      <td>977.000000</td>\n",
              "    </tr>\n",
              "  </tbody>\n",
              "</table>\n",
              "</div>"
            ],
            "text/plain": [
              "             season       holiday  ...    registered         count\n",
              "count  10886.000000  10886.000000  ...  10886.000000  10886.000000\n",
              "mean       2.506614      0.028569  ...    155.552177    191.574132\n",
              "std        1.116174      0.166599  ...    151.039033    181.144454\n",
              "min        1.000000      0.000000  ...      0.000000      1.000000\n",
              "25%        2.000000      0.000000  ...     36.000000     42.000000\n",
              "50%        3.000000      0.000000  ...    118.000000    145.000000\n",
              "75%        4.000000      0.000000  ...    222.000000    284.000000\n",
              "max        4.000000      1.000000  ...    886.000000    977.000000\n",
              "\n",
              "[8 rows x 11 columns]"
            ]
          },
          "metadata": {
            "tags": []
          },
          "execution_count": 252
        }
      ]
    },
    {
      "cell_type": "code",
      "metadata": {
        "id": "Kg88UorJPXZe",
        "colab": {
          "base_uri": "https://localhost:8080/",
          "height": 300
        },
        "outputId": "b2ab08a9-9158-45cf-f2d5-5786104f8cd1"
      },
      "source": [
        "# Lihatlah penjelasan deskriptif dari data\n",
        "# pastikan kolom train dan test memiliki statistik yang mirip\n",
        "test.describe()"
      ],
      "execution_count": null,
      "outputs": [
        {
          "output_type": "execute_result",
          "data": {
            "text/html": [
              "<div>\n",
              "<style scoped>\n",
              "    .dataframe tbody tr th:only-of-type {\n",
              "        vertical-align: middle;\n",
              "    }\n",
              "\n",
              "    .dataframe tbody tr th {\n",
              "        vertical-align: top;\n",
              "    }\n",
              "\n",
              "    .dataframe thead th {\n",
              "        text-align: right;\n",
              "    }\n",
              "</style>\n",
              "<table border=\"1\" class=\"dataframe\">\n",
              "  <thead>\n",
              "    <tr style=\"text-align: right;\">\n",
              "      <th></th>\n",
              "      <th>season</th>\n",
              "      <th>holiday</th>\n",
              "      <th>workingday</th>\n",
              "      <th>weather</th>\n",
              "      <th>temp</th>\n",
              "      <th>atemp</th>\n",
              "      <th>humidity</th>\n",
              "      <th>windspeed</th>\n",
              "      <th>casual</th>\n",
              "      <th>registered</th>\n",
              "      <th>count</th>\n",
              "    </tr>\n",
              "  </thead>\n",
              "  <tbody>\n",
              "    <tr>\n",
              "      <th>count</th>\n",
              "      <td>6438.000000</td>\n",
              "      <td>6438.000000</td>\n",
              "      <td>6438.000000</td>\n",
              "      <td>6438.000000</td>\n",
              "      <td>6438.000000</td>\n",
              "      <td>6438.000000</td>\n",
              "      <td>6438.000000</td>\n",
              "      <td>6438.000000</td>\n",
              "      <td>6438.000000</td>\n",
              "      <td>6438.000000</td>\n",
              "      <td>6438.000000</td>\n",
              "    </tr>\n",
              "    <tr>\n",
              "      <th>mean</th>\n",
              "      <td>2.497981</td>\n",
              "      <td>0.029046</td>\n",
              "      <td>0.685927</td>\n",
              "      <td>1.433364</td>\n",
              "      <td>20.675387</td>\n",
              "      <td>24.074327</td>\n",
              "      <td>64.067102</td>\n",
              "      <td>12.611850</td>\n",
              "      <td>35.213886</td>\n",
              "      <td>151.376825</td>\n",
              "      <td>186.590711</td>\n",
              "    </tr>\n",
              "    <tr>\n",
              "      <th>std</th>\n",
              "      <td>1.088979</td>\n",
              "      <td>0.167949</td>\n",
              "      <td>0.464182</td>\n",
              "      <td>0.643910</td>\n",
              "      <td>8.037098</td>\n",
              "      <td>8.758622</td>\n",
              "      <td>19.283197</td>\n",
              "      <td>8.242024</td>\n",
              "      <td>48.189692</td>\n",
              "      <td>152.134074</td>\n",
              "      <td>181.971613</td>\n",
              "    </tr>\n",
              "    <tr>\n",
              "      <th>min</th>\n",
              "      <td>1.000000</td>\n",
              "      <td>0.000000</td>\n",
              "      <td>0.000000</td>\n",
              "      <td>1.000000</td>\n",
              "      <td>0.820000</td>\n",
              "      <td>0.000000</td>\n",
              "      <td>16.000000</td>\n",
              "      <td>0.000000</td>\n",
              "      <td>0.000000</td>\n",
              "      <td>0.000000</td>\n",
              "      <td>1.000000</td>\n",
              "    </tr>\n",
              "    <tr>\n",
              "      <th>25%</th>\n",
              "      <td>2.000000</td>\n",
              "      <td>0.000000</td>\n",
              "      <td>0.000000</td>\n",
              "      <td>1.000000</td>\n",
              "      <td>13.940000</td>\n",
              "      <td>16.665000</td>\n",
              "      <td>49.000000</td>\n",
              "      <td>7.001500</td>\n",
              "      <td>4.000000</td>\n",
              "      <td>32.000000</td>\n",
              "      <td>37.000000</td>\n",
              "    </tr>\n",
              "    <tr>\n",
              "      <th>50%</th>\n",
              "      <td>3.000000</td>\n",
              "      <td>0.000000</td>\n",
              "      <td>1.000000</td>\n",
              "      <td>1.000000</td>\n",
              "      <td>21.320000</td>\n",
              "      <td>25.000000</td>\n",
              "      <td>65.000000</td>\n",
              "      <td>11.001400</td>\n",
              "      <td>17.000000</td>\n",
              "      <td>112.000000</td>\n",
              "      <td>138.000000</td>\n",
              "    </tr>\n",
              "    <tr>\n",
              "      <th>75%</th>\n",
              "      <td>3.000000</td>\n",
              "      <td>0.000000</td>\n",
              "      <td>1.000000</td>\n",
              "      <td>2.000000</td>\n",
              "      <td>27.060000</td>\n",
              "      <td>31.060000</td>\n",
              "      <td>81.000000</td>\n",
              "      <td>16.997900</td>\n",
              "      <td>48.000000</td>\n",
              "      <td>216.000000</td>\n",
              "      <td>275.000000</td>\n",
              "    </tr>\n",
              "    <tr>\n",
              "      <th>max</th>\n",
              "      <td>4.000000</td>\n",
              "      <td>1.000000</td>\n",
              "      <td>1.000000</td>\n",
              "      <td>4.000000</td>\n",
              "      <td>40.180000</td>\n",
              "      <td>50.000000</td>\n",
              "      <td>100.000000</td>\n",
              "      <td>55.998600</td>\n",
              "      <td>347.000000</td>\n",
              "      <td>885.000000</td>\n",
              "      <td>976.000000</td>\n",
              "    </tr>\n",
              "  </tbody>\n",
              "</table>\n",
              "</div>"
            ],
            "text/plain": [
              "            season      holiday  ...   registered        count\n",
              "count  6438.000000  6438.000000  ...  6438.000000  6438.000000\n",
              "mean      2.497981     0.029046  ...   151.376825   186.590711\n",
              "std       1.088979     0.167949  ...   152.134074   181.971613\n",
              "min       1.000000     0.000000  ...     0.000000     1.000000\n",
              "25%       2.000000     0.000000  ...    32.000000    37.000000\n",
              "50%       3.000000     0.000000  ...   112.000000   138.000000\n",
              "75%       3.000000     0.000000  ...   216.000000   275.000000\n",
              "max       4.000000     1.000000  ...   885.000000   976.000000\n",
              "\n",
              "[8 rows x 11 columns]"
            ]
          },
          "metadata": {
            "tags": []
          },
          "execution_count": 253
        }
      ]
    },
    {
      "cell_type": "markdown",
      "metadata": {
        "id": "-P8-ierJDlb8"
      },
      "source": [
        "**3. Tampilkan 5 Data teratas**"
      ]
    },
    {
      "cell_type": "code",
      "metadata": {
        "id": "_XJVVRTMivdb",
        "colab": {
          "base_uri": "https://localhost:8080/",
          "height": 206
        },
        "outputId": "1755fb42-a7ad-4902-b8ad-ebcf25d21f19"
      },
      "source": [
        "# melihat 5 data teratas\n",
        "# Gunakan perintah head(n) misal train.head(5)\n",
        "train.head()"
      ],
      "execution_count": null,
      "outputs": [
        {
          "output_type": "execute_result",
          "data": {
            "text/html": [
              "<div>\n",
              "<style scoped>\n",
              "    .dataframe tbody tr th:only-of-type {\n",
              "        vertical-align: middle;\n",
              "    }\n",
              "\n",
              "    .dataframe tbody tr th {\n",
              "        vertical-align: top;\n",
              "    }\n",
              "\n",
              "    .dataframe thead th {\n",
              "        text-align: right;\n",
              "    }\n",
              "</style>\n",
              "<table border=\"1\" class=\"dataframe\">\n",
              "  <thead>\n",
              "    <tr style=\"text-align: right;\">\n",
              "      <th></th>\n",
              "      <th>datetime</th>\n",
              "      <th>season</th>\n",
              "      <th>holiday</th>\n",
              "      <th>workingday</th>\n",
              "      <th>weather</th>\n",
              "      <th>temp</th>\n",
              "      <th>atemp</th>\n",
              "      <th>humidity</th>\n",
              "      <th>windspeed</th>\n",
              "      <th>casual</th>\n",
              "      <th>registered</th>\n",
              "      <th>count</th>\n",
              "    </tr>\n",
              "  </thead>\n",
              "  <tbody>\n",
              "    <tr>\n",
              "      <th>0</th>\n",
              "      <td>2011-01-01 00:00:00</td>\n",
              "      <td>1</td>\n",
              "      <td>0</td>\n",
              "      <td>0</td>\n",
              "      <td>1</td>\n",
              "      <td>9.84</td>\n",
              "      <td>14.395</td>\n",
              "      <td>81</td>\n",
              "      <td>0.0</td>\n",
              "      <td>3</td>\n",
              "      <td>13</td>\n",
              "      <td>16</td>\n",
              "    </tr>\n",
              "    <tr>\n",
              "      <th>1</th>\n",
              "      <td>2011-01-01 01:00:00</td>\n",
              "      <td>1</td>\n",
              "      <td>0</td>\n",
              "      <td>0</td>\n",
              "      <td>1</td>\n",
              "      <td>9.02</td>\n",
              "      <td>13.635</td>\n",
              "      <td>80</td>\n",
              "      <td>0.0</td>\n",
              "      <td>8</td>\n",
              "      <td>32</td>\n",
              "      <td>40</td>\n",
              "    </tr>\n",
              "    <tr>\n",
              "      <th>2</th>\n",
              "      <td>2011-01-01 02:00:00</td>\n",
              "      <td>1</td>\n",
              "      <td>0</td>\n",
              "      <td>0</td>\n",
              "      <td>1</td>\n",
              "      <td>9.02</td>\n",
              "      <td>13.635</td>\n",
              "      <td>80</td>\n",
              "      <td>0.0</td>\n",
              "      <td>5</td>\n",
              "      <td>27</td>\n",
              "      <td>32</td>\n",
              "    </tr>\n",
              "    <tr>\n",
              "      <th>3</th>\n",
              "      <td>2011-01-01 03:00:00</td>\n",
              "      <td>1</td>\n",
              "      <td>0</td>\n",
              "      <td>0</td>\n",
              "      <td>1</td>\n",
              "      <td>9.84</td>\n",
              "      <td>14.395</td>\n",
              "      <td>75</td>\n",
              "      <td>0.0</td>\n",
              "      <td>3</td>\n",
              "      <td>10</td>\n",
              "      <td>13</td>\n",
              "    </tr>\n",
              "    <tr>\n",
              "      <th>4</th>\n",
              "      <td>2011-01-01 04:00:00</td>\n",
              "      <td>1</td>\n",
              "      <td>0</td>\n",
              "      <td>0</td>\n",
              "      <td>1</td>\n",
              "      <td>9.84</td>\n",
              "      <td>14.395</td>\n",
              "      <td>75</td>\n",
              "      <td>0.0</td>\n",
              "      <td>0</td>\n",
              "      <td>1</td>\n",
              "      <td>1</td>\n",
              "    </tr>\n",
              "  </tbody>\n",
              "</table>\n",
              "</div>"
            ],
            "text/plain": [
              "              datetime  season  holiday  ...  casual  registered  count\n",
              "0  2011-01-01 00:00:00       1        0  ...       3          13     16\n",
              "1  2011-01-01 01:00:00       1        0  ...       8          32     40\n",
              "2  2011-01-01 02:00:00       1        0  ...       5          27     32\n",
              "3  2011-01-01 03:00:00       1        0  ...       3          10     13\n",
              "4  2011-01-01 04:00:00       1        0  ...       0           1      1\n",
              "\n",
              "[5 rows x 12 columns]"
            ]
          },
          "metadata": {
            "tags": []
          },
          "execution_count": 254
        }
      ]
    },
    {
      "cell_type": "markdown",
      "metadata": {
        "id": "eXIwT9QlNuB5"
      },
      "source": [
        "**4. Tampilkan nama-nama kolom**"
      ]
    },
    {
      "cell_type": "code",
      "metadata": {
        "id": "jggyFj9dccGa",
        "colab": {
          "base_uri": "https://localhost:8080/"
        },
        "outputId": "56c4aaf4-88d3-43a7-ed78-e0e173786355"
      },
      "source": [
        "# melihat ada kolom apa saja pada data\n",
        "# gunakan perintah columns misal train.columns\n",
        "print(train.columns)"
      ],
      "execution_count": null,
      "outputs": [
        {
          "output_type": "stream",
          "text": [
            "Index(['datetime', 'season', 'holiday', 'workingday', 'weather', 'temp',\n",
            "       'atemp', 'humidity', 'windspeed', 'casual', 'registered', 'count'],\n",
            "      dtype='object')\n"
          ],
          "name": "stdout"
        }
      ]
    },
    {
      "cell_type": "markdown",
      "metadata": {
        "id": "pzTS7-Pam8gV"
      },
      "source": [
        "<p align= \"justify\">\n",
        "Perlu diperhatikan bahwasannya fungsi describe() hanya akan memberikan ringkasan dari kolom yang memiliki tipe numerik. Selain itu tidak semua deskripsi dari tiap kolom memiliki arti yang bermakna.\n",
        "</p>\n",
        "<p align= \"justify\">\n",
        "Mari tidak usah perhatikan tiga kolom pertama karena hanya memberikan informasi yang berkaitan dengan waktu. Dapat dilihat bahwasannya kebanyakan cuaca di Washington D.C. bertipe 1 atau 2 (kuartil 25%, 50%, dan 75%) artinya jarang sekali terjadi cuaca buruk. Untuk humiditas, temperatur, dan kecepatan angin tentu saja bervariasi terhadap waktu tetapi dari deskripsi sederhana ini dapat dikatakan suhu cenderung berada pada 25 derajat celcius dengan humiditas cukup normal dan angin yang cukup normal pula. Selain itu dapat dilihat bahwasannya pengendara casual jumlahnya jauh lebih sedikit dibandingkan pengendara registered. Dapat dismpulkan kebanyakan pelanggan adalah pelanggan loyal.\n",
        "</p>"
      ]
    },
    {
      "cell_type": "markdown",
      "metadata": {
        "id": "9Je4hljCVHs_"
      },
      "source": [
        "## Data Exploration"
      ]
    },
    {
      "cell_type": "markdown",
      "metadata": {
        "id": "mEsbZaVD8wLN"
      },
      "source": [
        "**Data Quality Check**"
      ]
    },
    {
      "cell_type": "markdown",
      "metadata": {
        "id": "3y87U7AnDp7_"
      },
      "source": [
        "Pertama mari cek apakah terdapat data yang duplikat. Dapat dilihat bahwasannya tidak terdapat duplikat pada data"
      ]
    },
    {
      "cell_type": "markdown",
      "metadata": {
        "id": "onGkMzYCNzD4"
      },
      "source": [
        "**5. Cek Apakah terdapat duplikasi data**"
      ]
    },
    {
      "cell_type": "code",
      "metadata": {
        "id": "nE2wqDh_Dw6U",
        "colab": {
          "base_uri": "https://localhost:8080/"
        },
        "outputId": "b548659a-1ea8-43fd-e6fb-ecbf8de8583f"
      },
      "source": [
        "train.duplicated().any()"
      ],
      "execution_count": null,
      "outputs": [
        {
          "output_type": "execute_result",
          "data": {
            "text/plain": [
              "False"
            ]
          },
          "metadata": {
            "tags": []
          },
          "execution_count": 256
        }
      ]
    },
    {
      "cell_type": "markdown",
      "metadata": {
        "id": "UDYekxFUg02T"
      },
      "source": [
        "Mari cek apakah ada data yang hilang. Dari plot di bawah terlihat bahwasannya tidak ada data yang hilang. Tapi apakah memang tidak ada data yang hilang?"
      ]
    },
    {
      "cell_type": "markdown",
      "metadata": {
        "id": "Nh5wV-ygOaaJ"
      },
      "source": [
        "**6. Cek apakah terdapat missing value**"
      ]
    },
    {
      "cell_type": "code",
      "metadata": {
        "id": "rRfahf_TfKvC",
        "colab": {
          "base_uri": "https://localhost:8080/"
        },
        "outputId": "5c60f88e-c0ef-4432-8c7b-f265cbaf1592"
      },
      "source": [
        "train.isna().sum()"
      ],
      "execution_count": null,
      "outputs": [
        {
          "output_type": "execute_result",
          "data": {
            "text/plain": [
              "datetime      0\n",
              "season        0\n",
              "holiday       0\n",
              "workingday    0\n",
              "weather       0\n",
              "temp          0\n",
              "atemp         0\n",
              "humidity      0\n",
              "windspeed     0\n",
              "casual        0\n",
              "registered    0\n",
              "count         0\n",
              "dtype: int64"
            ]
          },
          "metadata": {
            "tags": []
          },
          "execution_count": 257
        }
      ]
    },
    {
      "cell_type": "markdown",
      "metadata": {
        "id": "42o7nCOiARnM"
      },
      "source": [
        "**Data Exploration: Times related columns**"
      ]
    },
    {
      "cell_type": "markdown",
      "metadata": {
        "id": "EpzICWqsVQ4n"
      },
      "source": [
        "\n",
        "<p align =\"justify\">\n",
        "Pada bagian ini kita akan mulai melakukan eksplorasi pada data yang berkaitan dengan waktu. Tujuannya adalah menemukan beberapa insight yang dapat membantu kita saat nanti membuat model. Mula-mula mari buat beberapa kolom baru dari kolom datetime seperti hari, minggu, bulan, dan jam untuk memudahkan kita saat analisis. Jika ingin mengetahui tentang fungsi-fungsi yang berkaitan dengan datetime, anda dapat mengakses <a href=\"https://pandas.pydata.org/pandas-docs/stable/user_guide/timeseries.html#time-date-components\"> link ini </a>\n",
        "</p>"
      ]
    },
    {
      "cell_type": "markdown",
      "metadata": {
        "id": "SPaha0suOfi_"
      },
      "source": [
        "**7. Buat kolom baru berupa pecahan dari datetime seperti day, month, hour, dll**"
      ]
    },
    {
      "cell_type": "code",
      "metadata": {
        "id": "lKMJin57XE-p",
        "colab": {
          "base_uri": "https://localhost:8080/"
        },
        "outputId": "0c5cb72a-d180-49f3-b296-e07439b46068"
      },
      "source": [
        "# cek tipe kolom\n",
        "train.dtypes"
      ],
      "execution_count": null,
      "outputs": [
        {
          "output_type": "execute_result",
          "data": {
            "text/plain": [
              "datetime       object\n",
              "season          int64\n",
              "holiday         int64\n",
              "workingday      int64\n",
              "weather         int64\n",
              "temp          float64\n",
              "atemp         float64\n",
              "humidity        int64\n",
              "windspeed     float64\n",
              "casual          int64\n",
              "registered      int64\n",
              "count           int64\n",
              "dtype: object"
            ]
          },
          "metadata": {
            "tags": []
          },
          "execution_count": 258
        }
      ]
    },
    {
      "cell_type": "code",
      "metadata": {
        "id": "u133gV-wmnka",
        "colab": {
          "base_uri": "https://localhost:8080/"
        },
        "outputId": "a4f3e8b5-a0bd-48ba-df6c-5e63fd6ffc7c"
      },
      "source": [
        "# mengubah tipe kolom 'datetime' dari object (string) menjadi datetime\n",
        "train['datetime'] = pd.to_datetime(train['datetime'])\n",
        "\n",
        "# membuat kolom baru dari datetime\n",
        "train['date'] = train['datetime'].dt.date # mengambil date tanpa times\n",
        "train['dayofweek'] = train['datetime'].dt.dayofweek # mengambil day of week\n",
        "train['month'] = train['datetime'].dt.month # mengambil month\n",
        "train['hour'] = train['datetime'].dt.hour # mengambil hour\n",
        "train['week'] = train['datetime'].dt.weekofyear # mengambil week of year"
      ],
      "execution_count": null,
      "outputs": [
        {
          "output_type": "stream",
          "text": [
            "/usr/local/lib/python3.7/dist-packages/ipykernel_launcher.py:9: FutureWarning: Series.dt.weekofyear and Series.dt.week have been deprecated.  Please use Series.dt.isocalendar().week instead.\n",
            "  if __name__ == '__main__':\n"
          ],
          "name": "stderr"
        }
      ]
    },
    {
      "cell_type": "markdown",
      "metadata": {
        "id": "mnysiaVEOnwA"
      },
      "source": [
        "**8. tampilkan kolom datetime seperti day, month, hour, dll**"
      ]
    },
    {
      "cell_type": "code",
      "metadata": {
        "id": "3gR5NwUTNega",
        "colab": {
          "base_uri": "https://localhost:8080/",
          "height": 424
        },
        "outputId": "516cf401-3237-443b-d5f2-1939fe0288bf"
      },
      "source": [
        "# tampilkan date, dayofweek, month, hour dan week\n",
        "train[['date','dayofweek','month','hour','week']]"
      ],
      "execution_count": null,
      "outputs": [
        {
          "output_type": "execute_result",
          "data": {
            "text/html": [
              "<div>\n",
              "<style scoped>\n",
              "    .dataframe tbody tr th:only-of-type {\n",
              "        vertical-align: middle;\n",
              "    }\n",
              "\n",
              "    .dataframe tbody tr th {\n",
              "        vertical-align: top;\n",
              "    }\n",
              "\n",
              "    .dataframe thead th {\n",
              "        text-align: right;\n",
              "    }\n",
              "</style>\n",
              "<table border=\"1\" class=\"dataframe\">\n",
              "  <thead>\n",
              "    <tr style=\"text-align: right;\">\n",
              "      <th></th>\n",
              "      <th>date</th>\n",
              "      <th>dayofweek</th>\n",
              "      <th>month</th>\n",
              "      <th>hour</th>\n",
              "      <th>week</th>\n",
              "    </tr>\n",
              "  </thead>\n",
              "  <tbody>\n",
              "    <tr>\n",
              "      <th>0</th>\n",
              "      <td>2011-01-01</td>\n",
              "      <td>5</td>\n",
              "      <td>1</td>\n",
              "      <td>0</td>\n",
              "      <td>52</td>\n",
              "    </tr>\n",
              "    <tr>\n",
              "      <th>1</th>\n",
              "      <td>2011-01-01</td>\n",
              "      <td>5</td>\n",
              "      <td>1</td>\n",
              "      <td>1</td>\n",
              "      <td>52</td>\n",
              "    </tr>\n",
              "    <tr>\n",
              "      <th>2</th>\n",
              "      <td>2011-01-01</td>\n",
              "      <td>5</td>\n",
              "      <td>1</td>\n",
              "      <td>2</td>\n",
              "      <td>52</td>\n",
              "    </tr>\n",
              "    <tr>\n",
              "      <th>3</th>\n",
              "      <td>2011-01-01</td>\n",
              "      <td>5</td>\n",
              "      <td>1</td>\n",
              "      <td>3</td>\n",
              "      <td>52</td>\n",
              "    </tr>\n",
              "    <tr>\n",
              "      <th>4</th>\n",
              "      <td>2011-01-01</td>\n",
              "      <td>5</td>\n",
              "      <td>1</td>\n",
              "      <td>4</td>\n",
              "      <td>52</td>\n",
              "    </tr>\n",
              "    <tr>\n",
              "      <th>...</th>\n",
              "      <td>...</td>\n",
              "      <td>...</td>\n",
              "      <td>...</td>\n",
              "      <td>...</td>\n",
              "      <td>...</td>\n",
              "    </tr>\n",
              "    <tr>\n",
              "      <th>10881</th>\n",
              "      <td>2012-12-19</td>\n",
              "      <td>2</td>\n",
              "      <td>12</td>\n",
              "      <td>19</td>\n",
              "      <td>51</td>\n",
              "    </tr>\n",
              "    <tr>\n",
              "      <th>10882</th>\n",
              "      <td>2012-12-19</td>\n",
              "      <td>2</td>\n",
              "      <td>12</td>\n",
              "      <td>20</td>\n",
              "      <td>51</td>\n",
              "    </tr>\n",
              "    <tr>\n",
              "      <th>10883</th>\n",
              "      <td>2012-12-19</td>\n",
              "      <td>2</td>\n",
              "      <td>12</td>\n",
              "      <td>21</td>\n",
              "      <td>51</td>\n",
              "    </tr>\n",
              "    <tr>\n",
              "      <th>10884</th>\n",
              "      <td>2012-12-19</td>\n",
              "      <td>2</td>\n",
              "      <td>12</td>\n",
              "      <td>22</td>\n",
              "      <td>51</td>\n",
              "    </tr>\n",
              "    <tr>\n",
              "      <th>10885</th>\n",
              "      <td>2012-12-19</td>\n",
              "      <td>2</td>\n",
              "      <td>12</td>\n",
              "      <td>23</td>\n",
              "      <td>51</td>\n",
              "    </tr>\n",
              "  </tbody>\n",
              "</table>\n",
              "<p>10886 rows × 5 columns</p>\n",
              "</div>"
            ],
            "text/plain": [
              "             date  dayofweek  month  hour  week\n",
              "0      2011-01-01          5      1     0    52\n",
              "1      2011-01-01          5      1     1    52\n",
              "2      2011-01-01          5      1     2    52\n",
              "3      2011-01-01          5      1     3    52\n",
              "4      2011-01-01          5      1     4    52\n",
              "...           ...        ...    ...   ...   ...\n",
              "10881  2012-12-19          2     12    19    51\n",
              "10882  2012-12-19          2     12    20    51\n",
              "10883  2012-12-19          2     12    21    51\n",
              "10884  2012-12-19          2     12    22    51\n",
              "10885  2012-12-19          2     12    23    51\n",
              "\n",
              "[10886 rows x 5 columns]"
            ]
          },
          "metadata": {
            "tags": []
          },
          "execution_count": 260
        }
      ]
    },
    {
      "cell_type": "markdown",
      "metadata": {
        "id": "d5mT7iC2bUu6"
      },
      "source": [
        "<p align=\"justify\">\n",
        "Jika sedikit kebingungan dengan maksud sintaks di atas berikut adalah penjelasannya\n",
        "</p>\n",
        "\n",
        "- Date artinya tanggal saat itu\n",
        "- Day of week menandakan hari pada minggu ini ( 0 = Senin, 1 = Selasa, 2 = Rabu, 3 = Kamis, 4 = Jumat, 5 = Sabtu, 6 = Minggu)\n",
        "- Month artinya bulan (e.g. 1 = januari) saat itu\n",
        "- Hour artinya jam saat itu\n",
        "- Week artinya minggu ke berapa pada saat itu ( 1= minggu tanggal 1 Januari - 7 Januari)"
      ]
    },
    {
      "cell_type": "markdown",
      "metadata": {
        "id": "Fae-9WEjmIQw"
      },
      "source": [
        "**Times related columns with total demand**"
      ]
    },
    {
      "cell_type": "markdown",
      "metadata": {
        "id": "c9dWzAV-cjMg"
      },
      "source": [
        "<p align=\"justify\">\n",
        "Sekarang mari kita coba mengeksplorasi kolom yang berkaitan dengan waktu untuk memahami data secara lebih jauh. Secara umum kita ingin mencari tahu mengenai hal seperti tren, hubungan, dan pola dari setiap kolom terutama antara kolom prediktor dan kolom target. Untuk kasus ini tentu tidak ada artinya melakukan analisis secara univariat (hanya satu kolom) karena kolom waktu tidak memiliki arti apa-apa jika sendiri (sekali lagi untuk kasus ini). Oleh karena itu analisis dilakukan secara bivariat antara kolom waktu dan kolom permintaan (count).\n",
        "</p>"
      ]
    },
    {
      "cell_type": "markdown",
      "metadata": {
        "id": "rvjTlOeeO0BX"
      },
      "source": [
        "**9. Hitung demand per hari**"
      ]
    },
    {
      "cell_type": "code",
      "metadata": {
        "id": "kN4hXYA5O6AP"
      },
      "source": [
        "# pertama mari kita hitung dalam tiap harinya rata-rata demand per jamnya berapa\n",
        "daily_demand = train.groupby('date')['count'].mean()"
      ],
      "execution_count": null,
      "outputs": []
    },
    {
      "cell_type": "markdown",
      "metadata": {
        "id": "n37l04SwYpfs"
      },
      "source": [
        "**10. Visualisasikan rata-rata demand per jam per hari**"
      ]
    },
    {
      "cell_type": "code",
      "metadata": {
        "id": "jaMxvq71Y3sy",
        "colab": {
          "base_uri": "https://localhost:8080/",
          "height": 524
        },
        "outputId": "b34ad721-8400-4221-8f12-4f6b305c1b9f"
      },
      "source": [
        "# langkah selanjutnya adalah memvisualisasikannya\n",
        "# plt.figure() adalah suatu kanvas yang nanti bisa kita tambahkan dengan berbagai visualisasi\n",
        "# figsize artinya besar dari gambar (x, y)\n",
        "# add_subplot memiliki 3 digit, dua digit pertama menandakan jumlah row dan kolom\n",
        "# digit terakhir menandakan letak dari plot\n",
        "# 111 artinya hanya ada satu buah bagian\n",
        "\n",
        "fig = plt.figure(figsize=(15,8))\n",
        "ax = fig.add_subplot(111)\n",
        "\n",
        "# Beri judul plot\n",
        "# lalu kita beri judul dan juga kita atur besar text-nya\n",
        "# argumen pad digunakan untuk mengatur jarak antara plot dengan judul\n",
        "ax.set_title(\"Average Hourly Demand Overtime\", fontdict={'fontsize': '15'}, pad = 12)\n",
        "\n",
        "# Beri judul pada sumbu X dan sumbu Y\n",
        "# lalu kita juga beri label untuk sumbu x dan sumbu y dan juga kita atur besar text-nya\n",
        "ax.set_xlabel(\"Date\", fontdict={'fontsize': '12'})\n",
        "ax.set_ylabel(\"Average Hourly Demand\", fontdict={'fontsize': '12'})\n",
        "\n",
        "# Plot demand perjam pada tiap waktu\n",
        "ax.plot(daily_demand.index, daily_demand)\n",
        "plt.show()"
      ],
      "execution_count": null,
      "outputs": [
        {
          "output_type": "display_data",
          "data": {
            "image/png": "[encoded data removed]",
            "text/plain": [
              "<Figure size 1080x576 with 1 Axes>"
            ]
          },
          "metadata": {
            "tags": [],
            "needs_background": "light"
          }
        }
      ]
    },
    {
      "cell_type": "markdown",
      "metadata": {
        "id": "N4BT-dEEFVX5"
      },
      "source": [
        "<p align='justify'>\n",
        "Ada beberapa hal yang menarik dari data ini. Pertama, tren permintaan per jam cenderung untuk meningkat sepanjang waktu. Lalu, terdapat pola seasonal dari permintaan sepeda yang cukup menarik untuk kita eksplorasi secara lebih jauh. Untuk saat ini mari kita lihat apakah untuk jenis permintaan yang berbeda (casual dan registered) pola dan tren yang dimiliki sama?\n",
        "</p>"
      ]
    },
    {
      "cell_type": "markdown",
      "metadata": {
        "id": "1Ko9DuaMP14Q"
      },
      "source": [
        "**11. Ambil daily demand data casual dan registered user**"
      ]
    },
    {
      "cell_type": "code",
      "metadata": {
        "id": "y9pwWiU7I4px"
      },
      "source": [
        "# mari ambil dua buah data yaitu daily demand untuk casual dan registered user\n",
        "daily_demand_casual = train.groupby('date')['casual'].mean()\n",
        "daily_demand_registered = train.groupby('date')['registered'].mean()"
      ],
      "execution_count": null,
      "outputs": []
    },
    {
      "cell_type": "markdown",
      "metadata": {
        "id": "TGV9JnJegB8d"
      },
      "source": [
        "**12. Badingkan demand casual dan registered**"
      ]
    },
    {
      "cell_type": "code",
      "metadata": {
        "id": "0wzYlTQXf-0i",
        "colab": {
          "base_uri": "https://localhost:8080/",
          "height": 585
        },
        "outputId": "e1f42cd4-b7df-45fb-b6b7-2af1c4de5237"
      },
      "source": [
        "# buat kanvas kosong untuk ditambahkan visualisasi\n",
        "fig = plt.figure(figsize=(10,8))\n",
        "\n",
        "# bagi kanvas menjadi dua bagian yaitu atas dan bawah\n",
        "# add_subplot memiliki 3 digit, dua digit pertama menandakan jumlah row dan kolom\n",
        "# digit terakhir menandakan letak dari plot\n",
        "\n",
        "ax1 = fig.add_subplot(212)\n",
        "ax2 = fig.add_subplot(211, sharex=ax1)\n",
        "\n",
        "ax2.xaxis.set_visible(False)\n",
        "ax2.set_title(\"Average Hourly Demand Overtime (registered)\", fontdict={'fontsize': '14'}, pad = 10)\n",
        "ax1.set_title(\"Average Hourly Demand Overtime (casual)\", fontdict={'fontsize': '14'}, pad = 10)\n",
        "ax2.set_ylabel(\"Average Hourly Demand (registered)\", fontdict={'fontsize': '12'})\n",
        "ax1.set_ylabel(\"Average Hourly Demand (casual)\", fontdict={'fontsize': '12'})\n",
        "ax1.set_xlabel(\"Date\", fontdict={'fontsize': '12'})\n",
        "\n",
        "ax1.plot(daily_demand_casual.index, daily_demand_casual, color='#FA9D00')\n",
        "ax2.plot(daily_demand_registered.index, daily_demand_registered, color = '#B00051')\n",
        "\n",
        " # untuk memastikan tidak ada yang tabrakan\n",
        "fig.tight_layout()"
      ],
      "execution_count": null,
      "outputs": [
        {
          "output_type": "display_data",
          "data": {
            "image/png": "[encoded data removed]",
            "text/plain": [
              "<Figure size 720x576 with 2 Axes>"
            ]
          },
          "metadata": {
            "tags": [],
            "needs_background": "light"
          }
        }
      ]
    },
    {
      "cell_type": "markdown",
      "metadata": {
        "id": "cDc1zVScQpz0"
      },
      "source": [
        "<p align=\"justify\">\n",
        "Jika dibandingkan permintaan casual dan registered kurang lebih memiliki pola yang cukup mirip. Hanya saja untuk permintaan bertipe casual tidak ada pertumbuhan. Dari gambar juga terlihat bahwasannya kebanyakan permintaan memiliki tipe registered. Permintaan registered juga cenderung lebih tersebar dibandingkan dengan casual.\n",
        "</p>"
      ]
    },
    {
      "cell_type": "markdown",
      "metadata": {
        "id": "rzeeLu-AX6zL"
      },
      "source": [
        "**13. Hitung standar deviasi dari tiap jenis permintaan**"
      ]
    },
    {
      "cell_type": "code",
      "metadata": {
        "id": "xEVytklsHfRv",
        "colab": {
          "base_uri": "https://localhost:8080/"
        },
        "outputId": "c0de4007-0347-4ed9-d449-35358d1c9109"
      },
      "source": [
        "print(\"Casual std: \", daily_demand_casual.std())\n",
        "print(\"Registered std: \",daily_demand_registered.std())\n",
        "\n",
        "# Alternatif: bisa juga pakai np.std(), tanpa bessel's correction\n"
      ],
      "execution_count": null,
      "outputs": [
        {
          "output_type": "stream",
          "text": [
            "Casual std:  29.109048821438567\n",
            "Registered std:  61.87729047279744\n"
          ],
          "name": "stdout"
        }
      ]
    },
    {
      "cell_type": "markdown",
      "metadata": {
        "id": "5ceZMFRBWAxV"
      },
      "source": [
        "Dari data terlihat seperti data memiliki suatu pola tertentu. Mungkin ini adalah efek dari season di amerika. Berhubung amerika memiliki empat buah musim. Kita pasti menduga orang cenderung lebih sering memakai sepeda saat summer dibandingkan saat winter. Mari kita lihat seperti apa polanya"
      ]
    },
    {
      "cell_type": "markdown",
      "metadata": {
        "id": "h4MRZ8TIYNWK"
      },
      "source": [
        "**14. Hitung rata-rata permintaan pada tiap season**\n",
        "\n"
      ]
    },
    {
      "cell_type": "code",
      "metadata": {
        "id": "BwJzWkiaVJTi",
        "colab": {
          "base_uri": "https://localhost:8080/",
          "height": 524
        },
        "outputId": "7dde9900-1350-42ae-9f11-db7cf9ca0961"
      },
      "source": [
        "# group data per mean\n",
        "season_demand = train.groupby('season')['count'].mean()\n",
        "\n",
        "fig = plt.figure(figsize=(10,8))\n",
        "ax = fig.add_subplot(111)\n",
        "\n",
        "# buatlah bar plot\n",
        "ax.bar(x = season_demand.index, height=season_demand, color='#FF5252')\n",
        "\n",
        "# memberi label ulang pada sumbu horizontal chart\n",
        "ax.set_xticks([1,2,3,4])\n",
        "ax.set_xticklabels(['Spring','Summer','Autumn','Winter'])\n",
        "\n",
        "# tambah judul\n",
        "ax.set_title(\"Total Demand per Season\", fontdict={'fontsize': '15'}, pad = 12)\n",
        "# tambah label sumbu x\n",
        "ax.set_xlabel(\"Season\", fontdict={'fontsize': '12'})\n",
        "# tambah label sumbu y\n",
        "ax.set_ylabel(\"Total Demand\", fontdict={'fontsize': '12'})\n",
        "\n",
        "# tampilkan plot\n",
        "plt.show()"
      ],
      "execution_count": null,
      "outputs": [
        {
          "output_type": "display_data",
          "data": {
            "image/png": "[encoded data removed]",
            "text/plain": [
              "<Figure size 720x576 with 1 Axes>"
            ]
          },
          "metadata": {
            "tags": [],
            "needs_background": "light"
          }
        }
      ]
    },
    {
      "cell_type": "markdown",
      "metadata": {
        "id": "Bl4TXN-AXdD_"
      },
      "source": [
        "<p align='justify'>\n",
        "Cukup menarik jika kita perhatikan. Ternyata permintaan terendah bukan terjadi pada masa musim dingin melainkan pada musim semi. Selain itu permintaan tertinggi terjadi saat musim gugur lalu diikuti oleh musim panas. Ada beberapa kemungkinan. Pertama saat awal program diluncurkan tidak banyak sepeda yang tersedia alhasil total sepeda yang disewa tentunya tidak banyak. Alasan lainnya yang mungkin adalah program ini baru terkenal saat musim panas. Atau memang musim semi tidak disukai untuk bersepeda. Tentu saja visualisasi biasa tidak mungkin bisa memberitahu kita banyak. Saat pemodelan nanti kita akan tahu apakah memang season berpengaruh pada <i>demand</i> dan bentuk pengaruhnya seperti apa.\n",
        "</p>"
      ]
    },
    {
      "cell_type": "markdown",
      "metadata": {
        "id": "dykKI7CcYiKb"
      },
      "source": [
        "**15. Hitung rata-rata permintaan pada tiap season dibagi kedalam casual dan registered**"
      ]
    },
    {
      "cell_type": "code",
      "metadata": {
        "id": "4AUG5UlXWhZc",
        "colab": {
          "base_uri": "https://localhost:8080/",
          "height": 729
        },
        "outputId": "dd52c482-f784-4de0-ac6a-282f187b0184"
      },
      "source": [
        "# hitung permintaan pada tiap tipe di setiap season\n",
        "seasonal_demand_casual = train.groupby('season')['casual'].mean()\n",
        "seasonal_demand_registered = train.groupby('season')['registered'].mean()\n",
        "\n",
        "# buat kanvas kosong untuk ditambahkan visualisasi\n",
        "fig = plt.figure(figsize=(15,10))\n",
        "\n",
        "# bagi kanvas menjadi dua bagian yaitu atas dan bawah\n",
        "# add_subplot memiliki 3 digit, dua digit pertama menandakan jumlah row dan kolom\n",
        "# digit terakhir menandakan letak dari plot\n",
        "# buat kedua bagian menggunakan sumbu x yang sama\n",
        "ax2 = fig.add_subplot(212)\n",
        "ax1 = fig.add_subplot(211, sharex=ax2)\n",
        "\n",
        "ax1.xaxis.set_visible(False)\n",
        "#tambahkan judul untuk tiap bagian\n",
        "ax1.set_title(\"Seasonal Demand (registered)\", fontdict={'fontsize': '14'}, pad = 10)\n",
        "ax2.set_title(\"Seasonal Demand (casual)\", fontdict={'fontsize': '14'}, pad = 10)\n",
        "\n",
        "# tambahkan judul untuk sumbu x dan sumbu y\n",
        "ax1.set_ylabel(\"Total Demand (registered)\", fontdict={'fontsize': '12'})\n",
        "ax2.set_ylabel(\"Total Demand (casual)\", fontdict={'fontsize': '12'})\n",
        "ax2.set_xlabel(\"Season\", fontdict={'fontsize': '12'})\n",
        "\n",
        "seasonal_demand_casual.plot(kind='bar', ax=ax2, color='#B00051', rot=0)\n",
        "seasonal_demand_registered.plot(kind='bar', ax=ax1, color = '#FA9D00')\n",
        "\n",
        "fig.tight_layout()\n"
      ],
      "execution_count": null,
      "outputs": [
        {
          "output_type": "display_data",
          "data": {
            "image/png": "[encoded data removed]",
            "text/plain": [
              "<Figure size 1080x720 with 2 Axes>"
            ]
          },
          "metadata": {
            "tags": [],
            "needs_background": "light"
          }
        }
      ]
    },
    {
      "cell_type": "markdown",
      "metadata": {
        "id": "kaIbULvjZj3-"
      },
      "source": [
        "<p align=\"justify\">\n",
        "Pola yang sama juga terlihat pada permintaan casual dan juga permintaan registered. Dengan perbedaan saat winter permintaan casual turun jauh lebih banyak dibandingkan dengan permintaan registered. Terakhir mari lihat distribusi dari total demand per hari, per jam, per bulan, dan per tipe hari (libur atau tidak).\n",
        "</p>"
      ]
    },
    {
      "cell_type": "markdown",
      "metadata": {
        "id": "vGrON0ZLYsyB"
      },
      "source": [
        "**16. Hitung total permintaan pada tiap hari, bulan, jam, hari libur dan hari kerja**"
      ]
    },
    {
      "cell_type": "code",
      "metadata": {
        "id": "1ypU456IZKVy",
        "colab": {
          "base_uri": "https://localhost:8080/",
          "height": 585
        },
        "outputId": "b9a4dc0b-b695-4b31-c37e-5bf41bd9634d"
      },
      "source": [
        "# demand per hari (weekday)\n",
        "weekday_demand  = train.groupby('dayofweek')['count'].mean()\n",
        "\n",
        "# demand per bulan (monthly)\n",
        "monthly_demand = train.groupby('month')['count'].mean()\n",
        "\n",
        "# demand per jam (hourly)\n",
        "hourly_demand  = train.groupby('hour')['count'].mean()\n",
        "\n",
        "# demand per tipe hari (workingday)\n",
        "daytype_demand  = train.groupby('workingday')['count'].mean()\n",
        "\n",
        "# buat kanvas kosong untuk ditambahkan visualisasi\n",
        "fig = plt.figure(figsize=(10,8))\n",
        "\n",
        "# bagi kanvas menjadi empat bagian; dua subplot di atas dan dua subplot bawah\n",
        "# add_subplot memiliki 3 digit, dua digit pertama menandakan jumlah row dan kolom\n",
        "# digit terakhir menandakan letak dari plot\n",
        "\n",
        "ax1 = fig.add_subplot(221)\n",
        "ax2 = fig.add_subplot(222)\n",
        "ax3 = fig.add_subplot(223)\n",
        "ax4 = fig.add_subplot(224)\n",
        "\n",
        "# tambahkan judul pada tiap plot\n",
        "ax1.set_title(\"Weekday Demand\", fontdict={'fontsize': '14'}, pad = 10)\n",
        "ax2.set_title(\"Monthly Demand\", fontdict={'fontsize': '14'}, pad = 10)\n",
        "ax3.set_title(\"Hourly Demand\", fontdict={'fontsize': '14'}, pad = 10)\n",
        "ax4.set_title(\"Workingday VS Non-Working Day Demand\", fontdict={'fontsize': '14'}, pad = 10)\n",
        "\n",
        "# tambahkan label pada sumbu y\n",
        "ax1.set_ylabel(\"Total Demand (Weekday)\", fontdict={'fontsize': '12'})\n",
        "ax2.set_ylabel(\"Total Demand (Monthly)\", fontdict={'fontsize': '12'})\n",
        "ax3.set_ylabel(\"Total Demand (Hourly)\", fontdict={'fontsize': '12'})\n",
        "ax4.set_ylabel(\"Demand per Day (Workingday)\", fontdict={'fontsize': '12'})\n",
        "\n",
        "# tambahkan label pada sumbu x\n",
        "ax1.set_xlabel(\"Weekday\", fontdict={'fontsize': '12'})\n",
        "ax2.set_xlabel(\"Monthly\", fontdict={'fontsize': '12'})\n",
        "ax3.set_xlabel(\"Hourly\", fontdict={'fontsize': '12'})\n",
        "ax4.set_xlabel(\"Workingday\", fontdict={'fontsize': '12'})\n",
        "\n",
        "# buatlah bar plot\n",
        "ax1.bar(x=weekday_demand.index, height=weekday_demand.values, color='#B00051')\n",
        "ax2.bar(x=monthly_demand.index,height=monthly_demand.values, color = '#FA9D00')\n",
        "ax3.bar(x=hourly_demand.index, height=hourly_demand.values, color='#EB984E')\n",
        "ax4.bar(x=daytype_demand.index, height=daytype_demand.values, color='#283747')\n",
        "\n",
        "# beri label ulang untuk sumbu horizontal plot kanan bawah\n",
        "# ax4.set_xticks([0,1])\n",
        "\n",
        "# rapihkan kanvas\n",
        "fig.tight_layout()"
      ],
      "execution_count": null,
      "outputs": [
        {
          "output_type": "display_data",
          "data": {
            "image/png": "[encoded data removed]",
            "text/plain": [
              "<Figure size 720x576 with 4 Axes>"
            ]
          },
          "metadata": {
            "tags": [],
            "needs_background": "light"
          }
        }
      ]
    },
    {
      "cell_type": "markdown",
      "metadata": {
        "id": "e35GDixTZQbG"
      },
      "source": [
        "**17. Lihat lebih lanjut rata-rata permintaan tiap jamnya dipecah per tipe permintaan, apakah terdapat pola yang menarik?**"
      ]
    },
    {
      "cell_type": "code",
      "metadata": {
        "id": "wklkGsv8oPA3",
        "colab": {
          "base_uri": "https://localhost:8080/",
          "height": 353
        },
        "outputId": "8d1fc792-c6e7-4101-aabc-ecaf99a9d064"
      },
      "source": [
        "# pertama pecah permintaan per jam berdasarkan dua tipe\n",
        "hourly_casual_demand  = train.groupby('hour')['casual'].mean()\n",
        "hourly_registered_demand  = train.groupby('hour')['registered'].mean()\n",
        "\n",
        "# buat kanvas kosong untuk ditambahkan visualisasi\n",
        "fig = plt.figure(figsize=(8,5))\n",
        "ax = fig.add_subplot(111)\n",
        "\n",
        "# dalam satu kanvas digabungkan dua visualisasi\n",
        "ax.bar(hourly_registered_demand.index,hourly_registered_demand.values,label=\"Registered\")\n",
        "ax.bar(hourly_casual_demand.index,hourly_casual_demand.values,label=\"Casual\")\n",
        "\n",
        "# buat title dari figure\n",
        "ax.set_title(\"Casual V.S. Registered Avg. Hourly Demand\", fontdict={'fontsize': '12'}, pad = 10)\n",
        "ax.set_xlabel(\"Hour\", fontdict={'fontsize': '10'})\n",
        "ax.set_ylabel(\"Average Demand\", fontdict={'fontsize': '10'})\n",
        "# tampilkan legenda dari gambar\n",
        "ax.legend()\n",
        "fig.show()"
      ],
      "execution_count": null,
      "outputs": [
        {
          "output_type": "display_data",
          "data": {
            "image/png": "[encoded data removed]",
            "text/plain": [
              "<Figure size 576x360 with 1 Axes>"
            ]
          },
          "metadata": {
            "tags": [],
            "needs_background": "light"
          }
        }
      ]
    },
    {
      "cell_type": "markdown",
      "metadata": {
        "id": "BaIXnM1TvhSE"
      },
      "source": [
        "<p align=\"justify\">\n",
        "Gambar di atas menunjukkan perbedaan permintaan antara pengguna casual dan registered. terlihat bahwasannya pengguna registered cenderung memiliki permintaan yang sangat tinggi pada jam kerja. Berbeda dengan pengguna casual yang permintaannya baru tinggi disekitar jam makan siang. Dari pola ini kita dapat menduga bahwasannya pengguna casual menggunakan sepeda kebanyakan untuk berekreasi. Kebanyakan dari pengguna ini kemungkinan besar turis. Sedangkan pengguna regitered kemungkinan besar adalah warga yang bekerja di daerah Washington D.C.\n",
        "</p>"
      ]
    },
    {
      "cell_type": "markdown",
      "metadata": {
        "id": "pEz8YTkkwoof"
      },
      "source": [
        "**Environment Related Variables with Demand**"
      ]
    },
    {
      "cell_type": "markdown",
      "metadata": {
        "id": "Noktpm5lwoke"
      },
      "source": [
        "<p align=\"justify\">\n",
        "Seperti yang kita ketahui selain data waktu dan permintaan historis terdapat juga beberapa data yang berkaitan dengan lingkungan. Yaitu kondisi cuaca, tempereatur, humiditas, dan kecepatan angin. Pada kasus ini kita akan melakukan analisis secara univariat (per masing-masing kolom) terlebih dahulu untuk mengetahui seperti apa kondisi cuaca di amerika serikat.\n",
        "</p>"
      ]
    },
    {
      "cell_type": "code",
      "metadata": {
        "id": "-jUjwkSEyZGf",
        "colab": {
          "base_uri": "https://localhost:8080/"
        },
        "outputId": "8c9cfcbb-d4df-494f-dc14-3406e882b230"
      },
      "source": [
        "# tampilkan kolom dari data\n",
        "train.columns"
      ],
      "execution_count": null,
      "outputs": [
        {
          "output_type": "execute_result",
          "data": {
            "text/plain": [
              "Index(['datetime', 'season', 'holiday', 'workingday', 'weather', 'temp',\n",
              "       'atemp', 'humidity', 'windspeed', 'casual', 'registered', 'count',\n",
              "       'date', 'dayofweek', 'month', 'hour', 'week'],\n",
              "      dtype='object')"
            ]
          },
          "metadata": {
            "tags": []
          },
          "execution_count": 270
        }
      ]
    },
    {
      "cell_type": "code",
      "metadata": {
        "id": "EMYKMy2klQDA",
        "colab": {
          "base_uri": "https://localhost:8080/",
          "height": 729
        },
        "outputId": "b001655e-70cd-4999-beea-ae88471bf02f"
      },
      "source": [
        "fig = plt.figure(figsize=(10,10))\n",
        "\n",
        "# bagi kanvas menjadi empat bagian\n",
        "ax1 = fig.add_subplot(221)\n",
        "ax2 = fig.add_subplot(222)\n",
        "ax3 = fig.add_subplot(223)\n",
        "ax4 = fig.add_subplot(224)\n",
        "\n",
        "# mari menggunakan plot bawaan dari pandas\n",
        "# formatnya mirip namun tidak perlu menspesifikasikan beberapa parameter lagi\n",
        "\n",
        "# masukan nilai kind = hist\n",
        "# melihat distribusi dari humiditas\n",
        "train['humidity'].plot(kind='hist', ax=ax1, color = \"#0A5E2AFF\")\n",
        "\n",
        "# melihat distribusi kecepatan angin\n",
        "train['windspeed'].plot(kind='hist', ax=ax2, color = \"#6DAC4FFF\")\n",
        "\n",
        "# melihat distribusi temperatur\n",
        "train['atemp'].plot(kind='hist', ax=ax3, color = \"#FAA094FF\")\n",
        "\n",
        "# melihat distribusi temperatur relatif\n",
        "train['temp'].plot(kind='hist', ax=ax4, color = \"#301728FF\")\n",
        "\n",
        "# tambahkan judul untuk tiap plot\n",
        "ax1.set_title(\"Humidity Distribution\", fontdict={'fontsize': '12'}, pad = 10)\n",
        "ax2.set_title(\"Windspeed Distribution\", fontdict={'fontsize': '12'}, pad = 10)\n",
        "ax3.set_title(\"Relative Temperature Distribution\", fontdict={'fontsize': '12'}, pad = 10)\n",
        "ax4.set_title(\"Temperature Distribution\", fontdict={'fontsize': '12'}, pad = 10)\n",
        "\n",
        "# rapihkan plot\n",
        "fig.tight_layout()"
      ],
      "execution_count": null,
      "outputs": [
        {
          "output_type": "display_data",
          "data": {
            "image/png": "[encoded data removed]",
            "text/plain": [
              "<Figure size 720x720 with 4 Axes>"
            ]
          },
          "metadata": {
            "tags": [],
            "needs_background": "light"
          }
        }
      ]
    },
    {
      "cell_type": "markdown",
      "metadata": {
        "id": "jdQWYFRFx1EH"
      },
      "source": [
        "<p align=\"justify\">\n",
        "Dapat dilihat humiditas, temperatur, dan relatif temperatur memiliki distribusi normal. Windspeed memiliki distribusi yang terkonsentrasi ke kiri. Lalu jika diperhatikan windspeed memiliki beberapa dengan nilai nol. Hal ini tidak mungkin terjadi secara fisika mari kita lihat berapa banyak windspeed yang bernilai nol.\n",
        "</p>\n"
      ]
    },
    {
      "cell_type": "code",
      "metadata": {
        "id": "jdfoGAvIwwNj",
        "colab": {
          "base_uri": "https://localhost:8080/"
        },
        "outputId": "b8755d12-aeb0-454c-efb6-280ad4c680bc"
      },
      "source": [
        "# filter data yang memiliki windspeed 0\n",
        "zero_wind = train[train['windspeed']==0]\n",
        "\n",
        "# hitung jumlah data zero_wind dan bagi dengan jumlah data total\n",
        "print(zero_wind.size / train.size)"
      ],
      "execution_count": null,
      "outputs": [
        {
          "output_type": "stream",
          "text": [
            "0.12061363218813155\n"
          ],
          "name": "stdout"
        }
      ]
    },
    {
      "cell_type": "markdown",
      "metadata": {
        "id": "WzOIaW0y0CF-"
      },
      "source": [
        "<p align=\"justify\">\n",
        "Terlihat bahwasannya 12% dari kolom windspeed bernilai nol. Hal ini sama saja dengan data windspeed yang hilang. Biasanya nilai yang hilang akan diganti dengan suatu nilai tertentu atau dibuang."
      ]
    },
    {
      "cell_type": "code",
      "metadata": {
        "id": "97qWmMr7z5f1",
        "colab": {
          "base_uri": "https://localhost:8080/"
        },
        "outputId": "49effbab-6aa5-4600-d190-b6f84e9391ab"
      },
      "source": [
        "# hitung jumlah kejadian tiap weather\n",
        "train['weather'].value_counts()"
      ],
      "execution_count": null,
      "outputs": [
        {
          "output_type": "execute_result",
          "data": {
            "text/plain": [
              "1    7192\n",
              "2    2834\n",
              "3     859\n",
              "4       1\n",
              "Name: weather, dtype: int64"
            ]
          },
          "metadata": {
            "tags": []
          },
          "execution_count": 273
        }
      ]
    },
    {
      "cell_type": "markdown",
      "metadata": {
        "id": "E3yN8y_Q2nBo"
      },
      "source": [
        "<p align=\"justify\">\n",
        "Dapat dilihat bahwasannya cuaca kebanyakan bertipe 1 atau 2. Kadang cuaca bertipe 3 dan hanya ada satu cuaca bertipe 4. Jika kita perhatikan hal ini cukup membingungkan mengingat amerika sering terkena tornado. Namun, mungkin kota Washington memang jarang terdampak tornado. Perlu data lain untuk memastikan hal ini. Terakhir mari kita lihat seperti apa korelasi antar kolom cuaca ini dan juga korelasi kolom cuaca dengan demand.\n",
        "</p>"
      ]
    },
    {
      "cell_type": "code",
      "metadata": {
        "id": "_Buh1nk52j-n",
        "colab": {
          "base_uri": "https://localhost:8080/",
          "height": 866
        },
        "outputId": "5832f241-9a14-452c-c451-1183916bf3bc"
      },
      "source": [
        "# tulis kolom yang ingin dianalisis korelasinya\n",
        "interested_columns = [\"temp\",\"atemp\",\"casual\",\"registered\",\"humidity\",\"windspeed\",\"count\", \"weather\"]\n",
        "\n",
        "# hitung korelasi antar kolom\n",
        "corr_dat = train[interested_columns].corr()\n",
        "\n",
        "# visualisasikan korelasinya\n",
        "# setelah didapatkan matriks korelasi tinggal mengikuti sintaks di bawah ini\n",
        "\n",
        "mask = np.array(corr_dat)\n",
        "mask[np.tril_indices_from(mask)] = False\n",
        "\n",
        "# buatlah kanvas yang sesuai\n",
        "fig = plt.figure(figsize=(15,15))\n",
        "ax = fig.add_subplot(111)\n",
        "\n",
        "# gunakan library seaborn untuk visualisasi\n",
        "# masukan ax=ax di dalam heatmap()\n",
        "sns.heatmap(corr_dat, mask=mask, vmax=.8, square=True, annot=True, ax = ax)"
      ],
      "execution_count": null,
      "outputs": [
        {
          "output_type": "execute_result",
          "data": {
            "text/plain": [
              "<matplotlib.axes._subplots.AxesSubplot at 0x7fea4ab32c90>"
            ]
          },
          "metadata": {
            "tags": []
          },
          "execution_count": 274
        },
        {
          "output_type": "display_data",
          "data": {
            "image/png": "[encoded data removed]",
            "text/plain": [
              "<Figure size 1080x1080 with 2 Axes>"
            ]
          },
          "metadata": {
            "tags": [],
            "needs_background": "light"
          }
        }
      ]
    },
    {
      "cell_type": "markdown",
      "metadata": {
        "id": "31BHAfh54SqY"
      },
      "source": [
        "<p align=\"justify\">\n",
        "Dapat dilihat humiditas memiliki korelasi yang cukup tinggi dengan windspeed dan weather. Hal ini cukup wajar mengingat windspeed dan weather akan menentukan tingkat humiditas. Temperatur relatif (atemp) memliki korelasi yang hampir sempurna dengan temperatur. Dapat dilihat juga bahwasannya windspeed memiliki korelasi yang sangat rendah dengan count, registered, maupun casual.\n",
        "</p>\n",
        "\n",
        "<p align=\"justify\">\n",
        "Semua kolom yang berkaitan dengan cuaca memiliki korelasi sekitar 0.3 - 0.4 dengan total permintaan (count) kecuali kolom windspeed. Hal ini bisa dibilang lampu hijau untuk menggunakan kolom-kolom cuaca dalam model terutama bila model memiliki tipe linear.\n",
        "</p>"
      ]
    },
    {
      "cell_type": "code",
      "metadata": {
        "id": "dNlV985Tu3ZA",
        "colab": {
          "base_uri": "https://localhost:8080/",
          "height": 513
        },
        "outputId": "e7ed5178-d616-4a6c-9aa4-9bef3d35ddbe"
      },
      "source": [
        "# terakhir mari lihat bagaimana hubungan antara temperatur dan count dengan menggunakan scatter plot\n",
        "\n",
        "fig = plt.figure(figsize=(8,8))\n",
        "ax1 = fig.add_subplot(111)\n",
        "\n",
        "# buatlah scatter plot antara temp dan count\n",
        "# gunakan perintah ax1.scatter\n",
        "ax1.scatter(train['temp'], train['count'])\n",
        "\n",
        "# berikan judul\n",
        "ax1.set_title(\"Temperature Relation with Count\",fontdict={'fontsize': '12'})\n",
        "# tambahkan label sumbu x dan y\n",
        "ax1.set_xlabel(\"Temperature\", fontdict={'fontsize': '10'})\n",
        "ax1.set_ylabel(\"Hourly Demand\", fontdict={'fontsize': '10'})\n",
        "fig.show()"
      ],
      "execution_count": null,
      "outputs": [
        {
          "output_type": "display_data",
          "data": {
            "image/png": "[encoded data removed]",
            "text/plain": [
              "<Figure size 576x576 with 1 Axes>"
            ]
          },
          "metadata": {
            "tags": [],
            "needs_background": "light"
          }
        }
      ]
    },
    {
      "cell_type": "markdown",
      "metadata": {
        "id": "VVQAARTdwF0M"
      },
      "source": [
        "<p align=\"justify\">\n",
        "Dapat dilihat memang hubungan antara temperatur dan permintaan terlihat cukup\n",
        "linear. Sepertinya konsumen suka bersepeda saat cuaca cukup panas. Terakhir, kita akan menganalisis demand secara univariat (hanya demand saja)"
      ]
    },
    {
      "cell_type": "markdown",
      "metadata": {
        "id": "xJJoFe5d5YCK"
      },
      "source": [
        "**Demand Analysis (Univariate)**"
      ]
    },
    {
      "cell_type": "markdown",
      "metadata": {
        "id": "T4zwFtte5fR3"
      },
      "source": [
        "<p align=\"justify\">\n",
        "Hanya ada beberapa hal yang perlu dilakukan yaitu mengamati distribusi dari permintaan dan mengamati apakah permintaan memiliki outlier atau tidak.\n",
        "</p>"
      ]
    },
    {
      "cell_type": "code",
      "metadata": {
        "id": "dLUnWItq4LPn",
        "colab": {
          "base_uri": "https://localhost:8080/",
          "height": 585
        },
        "outputId": "96267c21-0ed7-4a41-b350-b54931dd2173"
      },
      "source": [
        "# melihat distribusi dari permintaan\n",
        "# langkahnya sama seperti sebelumnya\n",
        "\n",
        "fig = plt.figure(figsize=(10, 8))\n",
        "# membagi kanvas menjadi satu bagian besar di atas\n",
        "ax1 = fig.add_subplot(211)\n",
        "\n",
        "# membagi kanvas menjadi dua bagian besar di bawah\n",
        "ax2 = fig.add_subplot(223)\n",
        "ax3 = fig.add_subplot(224)\n",
        "\n",
        "# menggunakan library pandas untuk visualisasi\n",
        "train['count'].plot(kind='hist', ax=ax1, color='#301728FF')\n",
        "train['registered'].plot(kind='hist', ax=ax2, color = '#9ED9CCFF')\n",
        "train['casual'].plot(kind='hist', ax=ax3, color= '#008C76FF')\n",
        "\n",
        "ax1.set_title(\"Demand Distribution (Total)\", fontdict={'fontsize': '14'}, pad = 10)\n",
        "ax2.set_title(\"Demand Distribution (Registered)\", fontdict={'fontsize': '12'}, pad = 10)\n",
        "ax3.set_title(\"Demand Distribution (Casual)\", fontdict={'fontsize': '12'}, pad = 10)\n",
        "\n",
        "fig.tight_layout()"
      ],
      "execution_count": null,
      "outputs": [
        {
          "output_type": "display_data",
          "data": {
            "image/png": "[encoded data removed]",
            "text/plain": [
              "<Figure size 720x576 with 3 Axes>"
            ]
          },
          "metadata": {
            "tags": [],
            "needs_background": "light"
          }
        }
      ]
    },
    {
      "cell_type": "markdown",
      "metadata": {
        "id": "5R8k3fUg9LgL"
      },
      "source": [
        "<p align=\"justify\">\n",
        "Dapat dilihat distribusi dari permintaan baik untuk registered maupun casual memiliki cenderung skewed ke ke kanan. Artinya kebanyakan permintaan cenderung tidak terlalu banyak namun kadang kala timbul permintaan yang tinggi.\n",
        "</p>"
      ]
    },
    {
      "cell_type": "code",
      "metadata": {
        "id": "pCWtB_ZR5s39",
        "colab": {
          "base_uri": "https://localhost:8080/",
          "height": 585
        },
        "outputId": "d6596bff-99e0-4080-bc82-d5ec2a1a6618"
      },
      "source": [
        "# melihat distribusi dari permintaan\n",
        "# langkahnya sama seperti sebelumnya\n",
        "\n",
        "fig = plt.figure(figsize=(10, 8))\n",
        "ax1 = fig.add_subplot(211)\n",
        "ax2 = fig.add_subplot(223)\n",
        "ax3 = fig.add_subplot(224)\n",
        "\n",
        "# plot tiap data (declare ax=...)\n",
        "train['count'].plot(kind='box', ax=ax1, color='#301728FF')\n",
        "train['registered'].plot(kind='box', ax=ax2, color = '#9ED9CCFF')\n",
        "train['casual'].plot(kind='box', ax=ax3, color= '#008C76FF')\n",
        "\n",
        "# beri judul dari tiap data\n",
        "ax1.set_title(\"Demand Distribution (Total)\", fontdict={'fontsize': '14'}, pad = 10)\n",
        "ax2.set_title(\"Demand Distribution (Registered)\", fontdict={'fontsize': '12'}, pad = 10)\n",
        "ax3.set_title(\"Demand Distribution (Casual)\", fontdict={'fontsize': '12'}, pad = 10)\n",
        "\n",
        "# rapihkan data\n",
        "fig.tight_layout()"
      ],
      "execution_count": null,
      "outputs": [
        {
          "output_type": "display_data",
          "data": {
            "image/png": "[encoded data removed]",
            "text/plain": [
              "<Figure size 720x576 with 3 Axes>"
            ]
          },
          "metadata": {
            "tags": [],
            "needs_background": "light"
          }
        }
      ]
    },
    {
      "cell_type": "markdown",
      "metadata": {
        "id": "TRDvEx7O9yhB"
      },
      "source": [
        "<p align=\"justify\">\n",
        "Hal yang sama dapat dilihat dari box plot di atas. Terlihat juga bahwasannya cukup banyak terdapat outlier. Biasanya kebanyakan model kurang baik saat menangani outlier. Untuk mengakali hal ini biasanya outlier dibuang atau data ditransformasikan. Bagaimana pengambilan keputusannya akan dijelaskan lebih lanjut pada bagian data preparation.\n",
        "</p>"
      ]
    },
    {
      "cell_type": "markdown",
      "metadata": {
        "id": "JcCJI_aO-Obc"
      },
      "source": [
        "<p align=\"justify\">\n",
        "Terakhir masih ada beberapa hal yang belum kita ketahui dari data. Cobalah secara mandiri melakukan hal ini untuk melatih kemampuan serta pemahaman kalian. Berikut adalah list pertanyaan yang harus kalian jawab.\n",
        "</p>\n",
        "\n",
        "1.   **Bagaimana korelasi kolom waktu dengan permintaan?**  (hint lakukan langkah yang sama seperti saat analisis korelasi cuaca)\n",
        "2.   **Bagaimana pola permintaan per jam pada hari libur dan non-hari libur?** (hint lakukan langkah seperti saat melihat tren per jam secara mendalam)\n",
        "3. **Bagaimana pola permintaan per jam pada tiap musim?**\n",
        "(hint lakukan langkah seperti saat melihat tren per jam secara mendalam)\n",
        "4. **Bagaimana hubungan permintaan per jam dengan humiditas?**\n",
        "(hint lakukan langkah seperti saat melihat relasi antara temperatur dan permintaan)\n"
      ]
    },
    {
      "cell_type": "markdown",
      "metadata": {
        "id": "SuR3PZA33R9Z"
      },
      "source": [
        "# Data Preparation"
      ]
    },
    {
      "cell_type": "markdown",
      "metadata": {
        "id": "6CI0rOBC8uZ-"
      },
      "source": [
        "<p align=\"justify\">\n",
        "Pada tahap ini anda harus melakukan beberapa hal terhadap data untuk membuat model dapat mengolah data anda. Selain itu anda juga harus memastikan bahwasannya model akan menginterpretasikan data anda sebagaimana yang anda inginkan.\n",
        "</p>"
      ]
    },
    {
      "cell_type": "markdown",
      "metadata": {
        "id": "sm7Tf_r98KCY"
      },
      "source": [
        "## Data Transformation"
      ]
    },
    {
      "cell_type": "markdown",
      "metadata": {
        "id": "PjGbXvgGodMm"
      },
      "source": [
        "<p align=\"justify\">\n",
        "Sekarang anda akan melakukan data transformation atau kadang disebut juga feature engineering yaitu tahapan mengubah data menjadi format yang sesuai dengan model. Terkadang kita juga menambahkan fitur baru yang tujuannya adalah menambah kemampuan prediktif dari model.\n",
        "</p>\n",
        "\n",
        "<p align = \"justify\">\n",
        "Mari kita lihat kembali kolom-kolom seperti apa yang kita miliki dari data."
      ]
    },
    {
      "cell_type": "markdown",
      "metadata": {
        "id": "okNkkFsWZ5Wk"
      },
      "source": [
        "**18. Tampilkan kolom-kolom yang ada pada data**"
      ]
    },
    {
      "cell_type": "code",
      "metadata": {
        "id": "sEop90PCpOxu",
        "colab": {
          "base_uri": "https://localhost:8080/"
        },
        "outputId": "e8e754ea-3244-460d-9a20-a65e154fb819"
      },
      "source": [
        "data.columns"
      ],
      "execution_count": null,
      "outputs": [
        {
          "output_type": "execute_result",
          "data": {
            "text/plain": [
              "Index(['datetime', 'season', 'holiday', 'workingday', 'weather', 'temp',\n",
              "       'atemp', 'humidity', 'windspeed', 'casual', 'registered', 'count'],\n",
              "      dtype='object')"
            ]
          },
          "metadata": {
            "tags": []
          },
          "execution_count": 278
        }
      ]
    },
    {
      "cell_type": "markdown",
      "metadata": {
        "id": "fNsFRaEguEKJ"
      },
      "source": [
        "<p align=\"justify\">\n",
        "Ada beberapa hal sederhana yang bisa kita lakukan yaitu mengambil hari, jam, dan bulan dari data. Selain itu kita juga melihat dari analisis sebelumnya terdapat lonjakan nilai pada jam-jam berangkat kerja. Kita dapat membuat kolom baru untuk menandakan jika jam tersebut adalah jam berangkat kerja dan jam pulang kerja.\n",
        "</p>"
      ]
    },
    {
      "cell_type": "markdown",
      "metadata": {
        "id": "t9ZCvxnCaAti"
      },
      "source": [
        "**19. Buat lagi kolom-kolom yang berkaitan dengan datetime**"
      ]
    },
    {
      "cell_type": "code",
      "metadata": {
        "id": "e76W_YCMxOED"
      },
      "source": [
        "# ubah dulu menjadi datetime\n",
        "data['datetime'] = pd.to_datetime(data['datetime'])\n",
        "\n",
        "data['dayofweek'] = data['datetime'].dt.dayofweek # mengambil day of week\n",
        "data['month'] = data['datetime'].dt.month # mengambil month\n",
        "data['hour'] = data['datetime'].dt.hour # mengambil hour\n",
        "data['day'] = data['datetime'].dt.day # day\n",
        "data['year'] = data['datetime'].dt.year # year"
      ],
      "execution_count": null,
      "outputs": []
    },
    {
      "cell_type": "markdown",
      "metadata": {
        "id": "VND-DwNSaGuU"
      },
      "source": [
        "**20. Dari visualisasi didapatkan bahwasannya saat jam kerja dan pulang kerja terdapat spike dari demand. Buatlah kolom baru yang menunjukkan jam kerja dan pulang kerja untuk membantu model melakukan prediksi**"
      ]
    },
    {
      "cell_type": "code",
      "metadata": {
        "id": "1B_0TXnSxUA3"
      },
      "source": [
        "data.loc[(data['hour']>= 7) & (data['hour']<= 9), 'GoToWork'] = 1 # menandakan jam berangkat kerja\n",
        "data['GoToWork'].fillna(0, inplace=True) # jika  bukan jam berangkat kerja 0\n",
        "data.loc[(data['hour']>= 17) & (data['hour']<= 19), 'GoHome'] = 1 # menandakan jam pulang kerja\n",
        "data['GoHome'].fillna(0, inplace=True) # jika  bukan jam pulang kerja 0"
      ],
      "execution_count": null,
      "outputs": []
    },
    {
      "cell_type": "markdown",
      "metadata": {
        "id": "9Ujzw03lqjn8"
      },
      "source": [
        "<p align=\"justify\">\n",
        "Terlihat bahwasannya data memiliki kolom bertipe string/objek yaitu datetime. Lalu, kolom dengan tipe integer (bilangan bulat) yaitu season, holiday, workingday, weather. Selain itu kolom permintaan (casual, registered, dan count) memiliki tipe integer (bilangan bulat). Jika masih ingat, kolom season memiliki nilai 1,2,3,4 untuk menandakan urutan dari empat season di negara maju. Untuk weather semakin tinggi maka nilainya maka akan semakin parah kondisi cuacanya. Apabila kita menggunakan model yang linear katakanlah regresi linear, maka model akan menginterpretasikan semakin besar nilai season maka akan semakin besar/kecil nilai dari permintaan.\n",
        "</p>\n",
        "\n",
        "<p align=\"justify\">\n",
        "Tentu saja hal ini belum tentu benar, mungkin saja nilai permintaan akan besar saat season 2 (summer) tapi akan lebih kecil di season 3 (fall) dan naik lagi di season 4 (winter). Tentu hal ini bukanlah masalah apabila menggunakan model yang non-linear. Hanya saja terkadang kita lebih mempreferensikan model yang linear karena kemudahan interpretasinya. Cara untuk menangani hal ini adalah dengan membuat variable dummy. Untuk lebih jelasnya perhatikan sintaks di bawah ini.\n",
        "</p>\n",
        "\n"
      ]
    },
    {
      "cell_type": "markdown",
      "metadata": {
        "id": "FCBt0cD4bao_"
      },
      "source": [
        "**21. Ubah kolom season dan weather menjadi string**"
      ]
    },
    {
      "cell_type": "code",
      "metadata": {
        "id": "1O778SX9ylII"
      },
      "source": [
        "data['season'] = data['season'].astype('str') # mengubah tipe season menjadi string\n",
        "data['weather'] = data['weather'].astype('str') # mengubah tipe weather menjadi string"
      ],
      "execution_count": null,
      "outputs": []
    },
    {
      "cell_type": "markdown",
      "metadata": {
        "id": "VgdjsYSxbxqL"
      },
      "source": [
        "**22. Buat dummy variable dari season dan weather, jangan lupa buang kolom datetime sebelum membuat dummy**"
      ]
    },
    {
      "cell_type": "code",
      "metadata": {
        "id": "9PmcPETazY4j",
        "colab": {
          "base_uri": "https://localhost:8080/",
          "height": 226
        },
        "outputId": "64f53f70-6a07-47bb-ac07-a24364b27571"
      },
      "source": [
        "# membuat dummy variable\n",
        "# pertama buang dulu kolom datetime karena tidak akan terpakai\n",
        "data = data.drop('datetime', axis=1).copy()\n",
        "# lalu gunakan dummies\n",
        "data = pd.get_dummies(data)\n",
        "# Cek 5 data teratas\n",
        "data.head()"
      ],
      "execution_count": null,
      "outputs": [
        {
          "output_type": "execute_result",
          "data": {
            "text/html": [
              "<div>\n",
              "<style scoped>\n",
              "    .dataframe tbody tr th:only-of-type {\n",
              "        vertical-align: middle;\n",
              "    }\n",
              "\n",
              "    .dataframe tbody tr th {\n",
              "        vertical-align: top;\n",
              "    }\n",
              "\n",
              "    .dataframe thead th {\n",
              "        text-align: right;\n",
              "    }\n",
              "</style>\n",
              "<table border=\"1\" class=\"dataframe\">\n",
              "  <thead>\n",
              "    <tr style=\"text-align: right;\">\n",
              "      <th></th>\n",
              "      <th>holiday</th>\n",
              "      <th>workingday</th>\n",
              "      <th>temp</th>\n",
              "      <th>atemp</th>\n",
              "      <th>humidity</th>\n",
              "      <th>windspeed</th>\n",
              "      <th>casual</th>\n",
              "      <th>registered</th>\n",
              "      <th>count</th>\n",
              "      <th>dayofweek</th>\n",
              "      <th>month</th>\n",
              "      <th>hour</th>\n",
              "      <th>day</th>\n",
              "      <th>year</th>\n",
              "      <th>GoToWork</th>\n",
              "      <th>GoHome</th>\n",
              "      <th>season_1</th>\n",
              "      <th>season_2</th>\n",
              "      <th>season_3</th>\n",
              "      <th>season_4</th>\n",
              "      <th>weather_1</th>\n",
              "      <th>weather_2</th>\n",
              "      <th>weather_3</th>\n",
              "      <th>weather_4</th>\n",
              "    </tr>\n",
              "  </thead>\n",
              "  <tbody>\n",
              "    <tr>\n",
              "      <th>0</th>\n",
              "      <td>0</td>\n",
              "      <td>0</td>\n",
              "      <td>9.84</td>\n",
              "      <td>14.395</td>\n",
              "      <td>81</td>\n",
              "      <td>0.0</td>\n",
              "      <td>3</td>\n",
              "      <td>13</td>\n",
              "      <td>16</td>\n",
              "      <td>5</td>\n",
              "      <td>1</td>\n",
              "      <td>0</td>\n",
              "      <td>1</td>\n",
              "      <td>2011</td>\n",
              "      <td>0.0</td>\n",
              "      <td>0.0</td>\n",
              "      <td>1</td>\n",
              "      <td>0</td>\n",
              "      <td>0</td>\n",
              "      <td>0</td>\n",
              "      <td>1</td>\n",
              "      <td>0</td>\n",
              "      <td>0</td>\n",
              "      <td>0</td>\n",
              "    </tr>\n",
              "    <tr>\n",
              "      <th>1</th>\n",
              "      <td>0</td>\n",
              "      <td>0</td>\n",
              "      <td>9.02</td>\n",
              "      <td>13.635</td>\n",
              "      <td>80</td>\n",
              "      <td>0.0</td>\n",
              "      <td>8</td>\n",
              "      <td>32</td>\n",
              "      <td>40</td>\n",
              "      <td>5</td>\n",
              "      <td>1</td>\n",
              "      <td>1</td>\n",
              "      <td>1</td>\n",
              "      <td>2011</td>\n",
              "      <td>0.0</td>\n",
              "      <td>0.0</td>\n",
              "      <td>1</td>\n",
              "      <td>0</td>\n",
              "      <td>0</td>\n",
              "      <td>0</td>\n",
              "      <td>1</td>\n",
              "      <td>0</td>\n",
              "      <td>0</td>\n",
              "      <td>0</td>\n",
              "    </tr>\n",
              "    <tr>\n",
              "      <th>2</th>\n",
              "      <td>0</td>\n",
              "      <td>0</td>\n",
              "      <td>9.02</td>\n",
              "      <td>13.635</td>\n",
              "      <td>80</td>\n",
              "      <td>0.0</td>\n",
              "      <td>5</td>\n",
              "      <td>27</td>\n",
              "      <td>32</td>\n",
              "      <td>5</td>\n",
              "      <td>1</td>\n",
              "      <td>2</td>\n",
              "      <td>1</td>\n",
              "      <td>2011</td>\n",
              "      <td>0.0</td>\n",
              "      <td>0.0</td>\n",
              "      <td>1</td>\n",
              "      <td>0</td>\n",
              "      <td>0</td>\n",
              "      <td>0</td>\n",
              "      <td>1</td>\n",
              "      <td>0</td>\n",
              "      <td>0</td>\n",
              "      <td>0</td>\n",
              "    </tr>\n",
              "    <tr>\n",
              "      <th>3</th>\n",
              "      <td>0</td>\n",
              "      <td>0</td>\n",
              "      <td>9.84</td>\n",
              "      <td>14.395</td>\n",
              "      <td>75</td>\n",
              "      <td>0.0</td>\n",
              "      <td>3</td>\n",
              "      <td>10</td>\n",
              "      <td>13</td>\n",
              "      <td>5</td>\n",
              "      <td>1</td>\n",
              "      <td>3</td>\n",
              "      <td>1</td>\n",
              "      <td>2011</td>\n",
              "      <td>0.0</td>\n",
              "      <td>0.0</td>\n",
              "      <td>1</td>\n",
              "      <td>0</td>\n",
              "      <td>0</td>\n",
              "      <td>0</td>\n",
              "      <td>1</td>\n",
              "      <td>0</td>\n",
              "      <td>0</td>\n",
              "      <td>0</td>\n",
              "    </tr>\n",
              "    <tr>\n",
              "      <th>4</th>\n",
              "      <td>0</td>\n",
              "      <td>0</td>\n",
              "      <td>9.84</td>\n",
              "      <td>14.395</td>\n",
              "      <td>75</td>\n",
              "      <td>0.0</td>\n",
              "      <td>0</td>\n",
              "      <td>1</td>\n",
              "      <td>1</td>\n",
              "      <td>5</td>\n",
              "      <td>1</td>\n",
              "      <td>4</td>\n",
              "      <td>1</td>\n",
              "      <td>2011</td>\n",
              "      <td>0.0</td>\n",
              "      <td>0.0</td>\n",
              "      <td>1</td>\n",
              "      <td>0</td>\n",
              "      <td>0</td>\n",
              "      <td>0</td>\n",
              "      <td>1</td>\n",
              "      <td>0</td>\n",
              "      <td>0</td>\n",
              "      <td>0</td>\n",
              "    </tr>\n",
              "  </tbody>\n",
              "</table>\n",
              "</div>"
            ],
            "text/plain": [
              "   holiday  workingday  temp  ...  weather_2  weather_3  weather_4\n",
              "0        0           0  9.84  ...          0          0          0\n",
              "1        0           0  9.02  ...          0          0          0\n",
              "2        0           0  9.02  ...          0          0          0\n",
              "3        0           0  9.84  ...          0          0          0\n",
              "4        0           0  9.84  ...          0          0          0\n",
              "\n",
              "[5 rows x 24 columns]"
            ]
          },
          "metadata": {
            "tags": []
          },
          "execution_count": 282
        }
      ]
    },
    {
      "cell_type": "markdown",
      "metadata": {
        "id": "GqLvSLArJ8Tg"
      },
      "source": [
        "<p align=\"justify\">\n",
        "Langkah selanjutnya adalah membuat semua nilai menjadi di antara 0 dan 1 agar memudahkan kita saat menentukan mana fitur yang paling prediktif terhadap variabel target. Untuk yang sudah di antara 0 dan 1 maka dibiarkan saja.\n",
        "</p>"
      ]
    },
    {
      "cell_type": "markdown",
      "metadata": {
        "id": "aNYVSC-Bchau"
      },
      "source": [
        "**23. Lakukan scaling terhadap seluruh kolom numerik sehingga skalanya menjadi antara 0 dan 1**"
      ]
    },
    {
      "cell_type": "code",
      "metadata": {
        "id": "meF1JqNhKoc0"
      },
      "source": [
        "from sklearn.preprocessing import MinMaxScaler\n",
        "\n",
        "scaled_cols = ['temp', 'atemp', 'humidity', 'windspeed', 'dayofweek', 'month', 'hour'] # beritahu kolom yang ingin discale\n",
        "\n",
        "scaler = MinMaxScaler() # panggil scalernya\n",
        "\n",
        "scaler.fit(data[scaled_cols]) # fit scaler ke data untuk membuat scaler mengetahui struktur dari data\n",
        "\n",
        "data[scaled_cols] = scaler.transform(data[scaled_cols]) # transform data dan masukan hasil yang sudah diubah ke dalam data"
      ],
      "execution_count": null,
      "outputs": []
    },
    {
      "cell_type": "markdown",
      "metadata": {
        "id": "j5rRAzFAc-wJ"
      },
      "source": [
        "**24. Lihat summary dari data untuk memastikan kolom numeriknya menjadi diantara 0 dan 1**"
      ]
    },
    {
      "cell_type": "code",
      "metadata": {
        "id": "SGXFQTdx4l7Y",
        "colab": {
          "base_uri": "https://localhost:8080/",
          "height": 320
        },
        "outputId": "f1c69ce7-03fa-4dc8-ef85-53127819a07c"
      },
      "source": [
        "# lihat summary dan pastikan data sudah diantara 1 dan 0\n",
        "data.describe()"
      ],
      "execution_count": null,
      "outputs": [
        {
          "output_type": "execute_result",
          "data": {
            "text/html": [
              "<div>\n",
              "<style scoped>\n",
              "    .dataframe tbody tr th:only-of-type {\n",
              "        vertical-align: middle;\n",
              "    }\n",
              "\n",
              "    .dataframe tbody tr th {\n",
              "        vertical-align: top;\n",
              "    }\n",
              "\n",
              "    .dataframe thead th {\n",
              "        text-align: right;\n",
              "    }\n",
              "</style>\n",
              "<table border=\"1\" class=\"dataframe\">\n",
              "  <thead>\n",
              "    <tr style=\"text-align: right;\">\n",
              "      <th></th>\n",
              "      <th>holiday</th>\n",
              "      <th>workingday</th>\n",
              "      <th>temp</th>\n",
              "      <th>atemp</th>\n",
              "      <th>humidity</th>\n",
              "      <th>windspeed</th>\n",
              "      <th>casual</th>\n",
              "      <th>registered</th>\n",
              "      <th>count</th>\n",
              "      <th>dayofweek</th>\n",
              "      <th>month</th>\n",
              "      <th>hour</th>\n",
              "      <th>day</th>\n",
              "      <th>year</th>\n",
              "      <th>GoToWork</th>\n",
              "      <th>GoHome</th>\n",
              "      <th>season_1</th>\n",
              "      <th>season_2</th>\n",
              "      <th>season_3</th>\n",
              "      <th>season_4</th>\n",
              "      <th>weather_1</th>\n",
              "      <th>weather_2</th>\n",
              "      <th>weather_3</th>\n",
              "      <th>weather_4</th>\n",
              "    </tr>\n",
              "  </thead>\n",
              "  <tbody>\n",
              "    <tr>\n",
              "      <th>count</th>\n",
              "      <td>17324.000000</td>\n",
              "      <td>17324.000000</td>\n",
              "      <td>17324.000000</td>\n",
              "      <td>17324.000000</td>\n",
              "      <td>17324.000000</td>\n",
              "      <td>17324.000000</td>\n",
              "      <td>17324.000000</td>\n",
              "      <td>17324.000000</td>\n",
              "      <td>17324.000000</td>\n",
              "      <td>17324.000000</td>\n",
              "      <td>17324.000000</td>\n",
              "      <td>17324.000000</td>\n",
              "      <td>17324.000000</td>\n",
              "      <td>17324.000000</td>\n",
              "      <td>17324.000000</td>\n",
              "      <td>17324.000000</td>\n",
              "      <td>17324.000000</td>\n",
              "      <td>17324.000000</td>\n",
              "      <td>17324.000000</td>\n",
              "      <td>17324.000000</td>\n",
              "      <td>17324.000000</td>\n",
              "      <td>17324.000000</td>\n",
              "      <td>17324.000000</td>\n",
              "      <td>17324.000000</td>\n",
              "    </tr>\n",
              "    <tr>\n",
              "      <th>mean</th>\n",
              "      <td>0.028746</td>\n",
              "      <td>0.682752</td>\n",
              "      <td>0.487209</td>\n",
              "      <td>0.476218</td>\n",
              "      <td>0.626968</td>\n",
              "      <td>0.223340</td>\n",
              "      <td>35.721658</td>\n",
              "      <td>154.000520</td>\n",
              "      <td>189.722177</td>\n",
              "      <td>0.502030</td>\n",
              "      <td>0.503951</td>\n",
              "      <td>0.501631</td>\n",
              "      <td>15.648407</td>\n",
              "      <td>2011.503463</td>\n",
              "      <td>0.125779</td>\n",
              "      <td>0.125375</td>\n",
              "      <td>0.243015</td>\n",
              "      <td>0.254272</td>\n",
              "      <td>0.259005</td>\n",
              "      <td>0.243708</td>\n",
              "      <td>0.657065</td>\n",
              "      <td>0.262006</td>\n",
              "      <td>0.080813</td>\n",
              "      <td>0.000115</td>\n",
              "    </tr>\n",
              "    <tr>\n",
              "      <th>std</th>\n",
              "      <td>0.167097</td>\n",
              "      <td>0.465418</td>\n",
              "      <td>0.196277</td>\n",
              "      <td>0.171668</td>\n",
              "      <td>0.192875</td>\n",
              "      <td>0.143757</td>\n",
              "      <td>49.309987</td>\n",
              "      <td>151.455954</td>\n",
              "      <td>181.463017</td>\n",
              "      <td>0.333570</td>\n",
              "      <td>0.312285</td>\n",
              "      <td>0.300575</td>\n",
              "      <td>8.780135</td>\n",
              "      <td>0.500002</td>\n",
              "      <td>0.331610</td>\n",
              "      <td>0.331153</td>\n",
              "      <td>0.428917</td>\n",
              "      <td>0.435464</td>\n",
              "      <td>0.438101</td>\n",
              "      <td>0.429331</td>\n",
              "      <td>0.474704</td>\n",
              "      <td>0.439739</td>\n",
              "      <td>0.272555</td>\n",
              "      <td>0.010744</td>\n",
              "    </tr>\n",
              "    <tr>\n",
              "      <th>min</th>\n",
              "      <td>0.000000</td>\n",
              "      <td>0.000000</td>\n",
              "      <td>0.000000</td>\n",
              "      <td>0.000000</td>\n",
              "      <td>0.000000</td>\n",
              "      <td>0.000000</td>\n",
              "      <td>0.000000</td>\n",
              "      <td>0.000000</td>\n",
              "      <td>1.000000</td>\n",
              "      <td>0.000000</td>\n",
              "      <td>0.000000</td>\n",
              "      <td>0.000000</td>\n",
              "      <td>1.000000</td>\n",
              "      <td>2011.000000</td>\n",
              "      <td>0.000000</td>\n",
              "      <td>0.000000</td>\n",
              "      <td>0.000000</td>\n",
              "      <td>0.000000</td>\n",
              "      <td>0.000000</td>\n",
              "      <td>0.000000</td>\n",
              "      <td>0.000000</td>\n",
              "      <td>0.000000</td>\n",
              "      <td>0.000000</td>\n",
              "      <td>0.000000</td>\n",
              "    </tr>\n",
              "    <tr>\n",
              "      <th>25%</th>\n",
              "      <td>0.000000</td>\n",
              "      <td>0.000000</td>\n",
              "      <td>0.326531</td>\n",
              "      <td>0.333300</td>\n",
              "      <td>0.480000</td>\n",
              "      <td>0.122840</td>\n",
              "      <td>4.000000</td>\n",
              "      <td>34.000000</td>\n",
              "      <td>40.000000</td>\n",
              "      <td>0.166667</td>\n",
              "      <td>0.272727</td>\n",
              "      <td>0.260870</td>\n",
              "      <td>8.000000</td>\n",
              "      <td>2011.000000</td>\n",
              "      <td>0.000000</td>\n",
              "      <td>0.000000</td>\n",
              "      <td>0.000000</td>\n",
              "      <td>0.000000</td>\n",
              "      <td>0.000000</td>\n",
              "      <td>0.000000</td>\n",
              "      <td>0.000000</td>\n",
              "      <td>0.000000</td>\n",
              "      <td>0.000000</td>\n",
              "      <td>0.000000</td>\n",
              "    </tr>\n",
              "    <tr>\n",
              "      <th>50%</th>\n",
              "      <td>0.000000</td>\n",
              "      <td>1.000000</td>\n",
              "      <td>0.489796</td>\n",
              "      <td>0.484800</td>\n",
              "      <td>0.630000</td>\n",
              "      <td>0.228047</td>\n",
              "      <td>17.000000</td>\n",
              "      <td>116.000000</td>\n",
              "      <td>142.000000</td>\n",
              "      <td>0.500000</td>\n",
              "      <td>0.545455</td>\n",
              "      <td>0.521739</td>\n",
              "      <td>16.000000</td>\n",
              "      <td>2012.000000</td>\n",
              "      <td>0.000000</td>\n",
              "      <td>0.000000</td>\n",
              "      <td>0.000000</td>\n",
              "      <td>0.000000</td>\n",
              "      <td>0.000000</td>\n",
              "      <td>0.000000</td>\n",
              "      <td>1.000000</td>\n",
              "      <td>0.000000</td>\n",
              "      <td>0.000000</td>\n",
              "      <td>0.000000</td>\n",
              "    </tr>\n",
              "    <tr>\n",
              "      <th>75%</th>\n",
              "      <td>0.000000</td>\n",
              "      <td>1.000000</td>\n",
              "      <td>0.653061</td>\n",
              "      <td>0.621200</td>\n",
              "      <td>0.780000</td>\n",
              "      <td>0.298225</td>\n",
              "      <td>48.000000</td>\n",
              "      <td>220.000000</td>\n",
              "      <td>281.000000</td>\n",
              "      <td>0.833333</td>\n",
              "      <td>0.818182</td>\n",
              "      <td>0.782609</td>\n",
              "      <td>23.000000</td>\n",
              "      <td>2012.000000</td>\n",
              "      <td>0.000000</td>\n",
              "      <td>0.000000</td>\n",
              "      <td>0.000000</td>\n",
              "      <td>1.000000</td>\n",
              "      <td>1.000000</td>\n",
              "      <td>0.000000</td>\n",
              "      <td>1.000000</td>\n",
              "      <td>1.000000</td>\n",
              "      <td>0.000000</td>\n",
              "      <td>0.000000</td>\n",
              "    </tr>\n",
              "    <tr>\n",
              "      <th>max</th>\n",
              "      <td>1.000000</td>\n",
              "      <td>1.000000</td>\n",
              "      <td>1.000000</td>\n",
              "      <td>1.000000</td>\n",
              "      <td>1.000000</td>\n",
              "      <td>1.000000</td>\n",
              "      <td>367.000000</td>\n",
              "      <td>886.000000</td>\n",
              "      <td>977.000000</td>\n",
              "      <td>1.000000</td>\n",
              "      <td>1.000000</td>\n",
              "      <td>1.000000</td>\n",
              "      <td>31.000000</td>\n",
              "      <td>2012.000000</td>\n",
              "      <td>1.000000</td>\n",
              "      <td>1.000000</td>\n",
              "      <td>1.000000</td>\n",
              "      <td>1.000000</td>\n",
              "      <td>1.000000</td>\n",
              "      <td>1.000000</td>\n",
              "      <td>1.000000</td>\n",
              "      <td>1.000000</td>\n",
              "      <td>1.000000</td>\n",
              "      <td>1.000000</td>\n",
              "    </tr>\n",
              "  </tbody>\n",
              "</table>\n",
              "</div>"
            ],
            "text/plain": [
              "            holiday    workingday  ...     weather_3     weather_4\n",
              "count  17324.000000  17324.000000  ...  17324.000000  17324.000000\n",
              "mean       0.028746      0.682752  ...      0.080813      0.000115\n",
              "std        0.167097      0.465418  ...      0.272555      0.010744\n",
              "min        0.000000      0.000000  ...      0.000000      0.000000\n",
              "25%        0.000000      0.000000  ...      0.000000      0.000000\n",
              "50%        0.000000      1.000000  ...      0.000000      0.000000\n",
              "75%        0.000000      1.000000  ...      0.000000      0.000000\n",
              "max        1.000000      1.000000  ...      1.000000      1.000000\n",
              "\n",
              "[8 rows x 24 columns]"
            ]
          },
          "metadata": {
            "tags": []
          },
          "execution_count": 284
        }
      ]
    },
    {
      "cell_type": "markdown",
      "metadata": {
        "id": "kV1esSn30zAw"
      },
      "source": [
        "## Data Cleaning"
      ]
    },
    {
      "cell_type": "markdown",
      "metadata": {
        "id": "RWZ643MaVhCn"
      },
      "source": [
        "<p align=\"justify\">\n",
        "Dalam melakukan data cleaning, terdapat beberapa hal yang perlu diperhatikan, yakni\n",
        "</p>\n",
        "<ol>\n",
        "<li>Adanya data yang hilang (missing data)</li>\n",
        "<li>Adanya nilai ekstrim (outlier)</li>\n",
        "</ol>\n",
        "<p align = \"justify\">\n",
        "Kedua hal di atas perlu ditangani sebelum membangun model. Jika tidak, model yang dihasilkan bisa jadi kurang representatif.\n",
        "</p>\n",
        "\n",
        "<p align = \"justify\">\n",
        "Pada data ini terdapat \"missing value\" dari windspeed. Biarpun tidak terlalu jelas namun nilai dari windspeed ada yang nol. Nilai ini tidak mungkin terjadi di dunia nyata. Ada beberapa cara yang anda bisa lakukan satu adalah mengasumsikan sensor buruk alhasil kolom ini harus dibuang. Cara kedua adalah mengganti nilai \"missing value\" ini dengan median dari nilai windspeed. Kami akan mencontohkan keduanya silahkan anda pilih salah satu\n",
        "</p>\n",
        "\n",
        "<p align = \"justify\">\n",
        "Selain itu kita juga akan membuang kolom yang berkolerasi sempurna dengan kolom lain. Dapat dikatakan kolom ini tidak akan menambah informasi apa-apa kepada model alhasil dibuang saja untuk menghemat waktu komputasi.\n",
        "</p>\n",
        "\n",
        "<p align = \"justify\">\n",
        "Untuk langkah kedua seperti yang kita lihat pada bagian data understanding, ada outlier pada permintaan. Ada beberapa cara dalam menangani outlier dan biasanya berbeda-beda untuk tiap kasus. Cara yang paling umum adalah membuang outlier. Cara ini bisa dilakukan apabila memang nilai outlier sedikit dan memang tidak bisa dikira-kira nilai yang benarnya berapa. Misalnya saat mendapatkan data nama orang pada kolom jumlah yang dibayar. Hal lainnya mengganti nilai outlier dengan nilai yang wajar. Untuk kasus ini outlier akan dibuang saja dengan asumsi sepeda terbatas sehingga tidak mungkin terdapat penyewaan sepeda yang terlalu banyak pada suatu waktu.\n",
        "</p>"
      ]
    },
    {
      "cell_type": "markdown",
      "metadata": {
        "id": "at_KnhdNdaFg"
      },
      "source": [
        "**25. Terdapat dua buah opsi untuk menangani missing value pada kolom windspeed. Pilih salah satu opsi yang menurut anda paling baik**"
      ]
    },
    {
      "cell_type": "code",
      "metadata": {
        "id": "orCfBQAPeQji"
      },
      "source": [
        "# mengganti nilai windspeed yang nol dengan mediannya\n",
        "\n",
        "# Opsi 1\n",
        "# buat windspeed yang nol menjadi null\n",
        "\n",
        "# data.loc[data['windspeed'] == 0, 'windspeed'] = np.NaN\n",
        "# data['windspeed'] = data['windspeed'].fillna(data['windspeed'].median())\n",
        "\n",
        "# opsi 2\n",
        "# membuang kolom windspeed\n",
        "data.drop(['windspeed'], axis=1, inplace=True, errors='ignore')"
      ],
      "execution_count": null,
      "outputs": []
    },
    {
      "cell_type": "markdown",
      "metadata": {
        "id": "Zk4GSSeiea0g"
      },
      "source": [
        "**26. Buang kolom atemp dan juga outlier**"
      ]
    },
    {
      "cell_type": "code",
      "metadata": {
        "id": "IdPjby1u3gA-"
      },
      "source": [
        "#membuang kolom atemp\n",
        "data.drop(['atemp'], axis=1, inplace=True, errors='ignore')\n",
        "\n",
        "# ingat outlier hanya berada pada data train saja bukan pada data test\n",
        "# lalu outlier hanya terjadi jika permintaan per jam sangat besar meningat permintaan kecil itu wajar\n",
        "# oleh karena itu hanya buang outlier yang ada pada data train saja\n",
        "\n",
        "data = data[np.abs(data[\"count\"]-data[\"count\"].mean())<=(3*data[\"count\"].std())]\n"
      ],
      "execution_count": null,
      "outputs": []
    },
    {
      "cell_type": "markdown",
      "metadata": {
        "id": "BZGtFTw_9DPM"
      },
      "source": [
        "## Splitting Train and Validation"
      ]
    },
    {
      "cell_type": "markdown",
      "metadata": {
        "id": "BIa-DSb68jPl"
      },
      "source": [
        "<p align=\"justify\">\n",
        "Langkah selanjutnya adalah membuat data train dan validation. Data train akan digunakan untuk melatih model dan data validation akan digunakan untuk mengukur performansi dari model kita sebelum kita cek terhadap data test. Biasanya data validation ini disebut juga data test jika memang kita tidak memiliki data test. Ada beberapa hal yang bisa dijadikan konsiderasi sebelum memisah data train dan validation. Yaitu menentukan mana variabel target dan mana variabel prediktor.\n",
        "</p>\n",
        "\n",
        "<p align=\"justify\">\n",
        "Saat modelling kita harus menentukan mana variabel target dan mana variabel prediktor yang akan digunakan. Pada kasus ini kita bisa melakukan beberapa alternatif. Alternatif yang pertama adalah membuat satu buah model. Yaitu model dengan variable target total demand (count) dan variabel prediktor kolom sisanya. Alternatif kedua adalah membuat dua buah model. Yaitu model pertama dengan variable target demand casual (casual) dan variabel prediktor kolom sisanya. Model kedua dengan variabel target demand registered (registered) dan variabel prediktor kolom sisanya. Lalu hasil prediksi dari kedua model kita tambahkan (jangan lupa untuk mentransformasi balik kolom casual dan registered sebelum ditambahkan).\n",
        "</p>\n",
        "\n",
        "<p align=\"justify\">\n",
        "Untuk kasus ini kita akan mencoba alternatif satu. Anda bisa mencoba alternatif dua dan membandingkan mana performa model yang lebih bagus."
      ]
    },
    {
      "cell_type": "markdown",
      "metadata": {
        "id": "b-3x_ngSeiF_"
      },
      "source": [
        "**27. Buat data training dan validation**"
      ]
    },
    {
      "cell_type": "code",
      "metadata": {
        "colab": {
          "base_uri": "https://localhost:8080/",
          "height": 444
        },
        "id": "zolDbtpw3JQ5",
        "outputId": "6e2be426-ae59-4259-9555-ad1ab71b4051"
      },
      "source": [
        "data"
      ],
      "execution_count": null,
      "outputs": [
        {
          "output_type": "execute_result",
          "data": {
            "text/html": [
              "<div>\n",
              "<style scoped>\n",
              "    .dataframe tbody tr th:only-of-type {\n",
              "        vertical-align: middle;\n",
              "    }\n",
              "\n",
              "    .dataframe tbody tr th {\n",
              "        vertical-align: top;\n",
              "    }\n",
              "\n",
              "    .dataframe thead th {\n",
              "        text-align: right;\n",
              "    }\n",
              "</style>\n",
              "<table border=\"1\" class=\"dataframe\">\n",
              "  <thead>\n",
              "    <tr style=\"text-align: right;\">\n",
              "      <th></th>\n",
              "      <th>holiday</th>\n",
              "      <th>workingday</th>\n",
              "      <th>temp</th>\n",
              "      <th>humidity</th>\n",
              "      <th>casual</th>\n",
              "      <th>registered</th>\n",
              "      <th>count</th>\n",
              "      <th>dayofweek</th>\n",
              "      <th>month</th>\n",
              "      <th>hour</th>\n",
              "      <th>day</th>\n",
              "      <th>year</th>\n",
              "      <th>GoToWork</th>\n",
              "      <th>GoHome</th>\n",
              "      <th>season_1</th>\n",
              "      <th>season_2</th>\n",
              "      <th>season_3</th>\n",
              "      <th>season_4</th>\n",
              "      <th>weather_1</th>\n",
              "      <th>weather_2</th>\n",
              "      <th>weather_3</th>\n",
              "      <th>weather_4</th>\n",
              "    </tr>\n",
              "  </thead>\n",
              "  <tbody>\n",
              "    <tr>\n",
              "      <th>0</th>\n",
              "      <td>0</td>\n",
              "      <td>0</td>\n",
              "      <td>0.224490</td>\n",
              "      <td>0.81</td>\n",
              "      <td>3</td>\n",
              "      <td>13</td>\n",
              "      <td>16</td>\n",
              "      <td>0.833333</td>\n",
              "      <td>0.0</td>\n",
              "      <td>0.000000</td>\n",
              "      <td>1</td>\n",
              "      <td>2011</td>\n",
              "      <td>0.0</td>\n",
              "      <td>0.0</td>\n",
              "      <td>1</td>\n",
              "      <td>0</td>\n",
              "      <td>0</td>\n",
              "      <td>0</td>\n",
              "      <td>1</td>\n",
              "      <td>0</td>\n",
              "      <td>0</td>\n",
              "      <td>0</td>\n",
              "    </tr>\n",
              "    <tr>\n",
              "      <th>1</th>\n",
              "      <td>0</td>\n",
              "      <td>0</td>\n",
              "      <td>0.204082</td>\n",
              "      <td>0.80</td>\n",
              "      <td>8</td>\n",
              "      <td>32</td>\n",
              "      <td>40</td>\n",
              "      <td>0.833333</td>\n",
              "      <td>0.0</td>\n",
              "      <td>0.043478</td>\n",
              "      <td>1</td>\n",
              "      <td>2011</td>\n",
              "      <td>0.0</td>\n",
              "      <td>0.0</td>\n",
              "      <td>1</td>\n",
              "      <td>0</td>\n",
              "      <td>0</td>\n",
              "      <td>0</td>\n",
              "      <td>1</td>\n",
              "      <td>0</td>\n",
              "      <td>0</td>\n",
              "      <td>0</td>\n",
              "    </tr>\n",
              "    <tr>\n",
              "      <th>2</th>\n",
              "      <td>0</td>\n",
              "      <td>0</td>\n",
              "      <td>0.204082</td>\n",
              "      <td>0.80</td>\n",
              "      <td>5</td>\n",
              "      <td>27</td>\n",
              "      <td>32</td>\n",
              "      <td>0.833333</td>\n",
              "      <td>0.0</td>\n",
              "      <td>0.086957</td>\n",
              "      <td>1</td>\n",
              "      <td>2011</td>\n",
              "      <td>0.0</td>\n",
              "      <td>0.0</td>\n",
              "      <td>1</td>\n",
              "      <td>0</td>\n",
              "      <td>0</td>\n",
              "      <td>0</td>\n",
              "      <td>1</td>\n",
              "      <td>0</td>\n",
              "      <td>0</td>\n",
              "      <td>0</td>\n",
              "    </tr>\n",
              "    <tr>\n",
              "      <th>3</th>\n",
              "      <td>0</td>\n",
              "      <td>0</td>\n",
              "      <td>0.224490</td>\n",
              "      <td>0.75</td>\n",
              "      <td>3</td>\n",
              "      <td>10</td>\n",
              "      <td>13</td>\n",
              "      <td>0.833333</td>\n",
              "      <td>0.0</td>\n",
              "      <td>0.130435</td>\n",
              "      <td>1</td>\n",
              "      <td>2011</td>\n",
              "      <td>0.0</td>\n",
              "      <td>0.0</td>\n",
              "      <td>1</td>\n",
              "      <td>0</td>\n",
              "      <td>0</td>\n",
              "      <td>0</td>\n",
              "      <td>1</td>\n",
              "      <td>0</td>\n",
              "      <td>0</td>\n",
              "      <td>0</td>\n",
              "    </tr>\n",
              "    <tr>\n",
              "      <th>4</th>\n",
              "      <td>0</td>\n",
              "      <td>0</td>\n",
              "      <td>0.224490</td>\n",
              "      <td>0.75</td>\n",
              "      <td>0</td>\n",
              "      <td>1</td>\n",
              "      <td>1</td>\n",
              "      <td>0.833333</td>\n",
              "      <td>0.0</td>\n",
              "      <td>0.173913</td>\n",
              "      <td>1</td>\n",
              "      <td>2011</td>\n",
              "      <td>0.0</td>\n",
              "      <td>0.0</td>\n",
              "      <td>1</td>\n",
              "      <td>0</td>\n",
              "      <td>0</td>\n",
              "      <td>0</td>\n",
              "      <td>1</td>\n",
              "      <td>0</td>\n",
              "      <td>0</td>\n",
              "      <td>0</td>\n",
              "    </tr>\n",
              "    <tr>\n",
              "      <th>...</th>\n",
              "      <td>...</td>\n",
              "      <td>...</td>\n",
              "      <td>...</td>\n",
              "      <td>...</td>\n",
              "      <td>...</td>\n",
              "      <td>...</td>\n",
              "      <td>...</td>\n",
              "      <td>...</td>\n",
              "      <td>...</td>\n",
              "      <td>...</td>\n",
              "      <td>...</td>\n",
              "      <td>...</td>\n",
              "      <td>...</td>\n",
              "      <td>...</td>\n",
              "      <td>...</td>\n",
              "      <td>...</td>\n",
              "      <td>...</td>\n",
              "      <td>...</td>\n",
              "      <td>...</td>\n",
              "      <td>...</td>\n",
              "      <td>...</td>\n",
              "      <td>...</td>\n",
              "    </tr>\n",
              "    <tr>\n",
              "      <th>6433</th>\n",
              "      <td>0</td>\n",
              "      <td>1</td>\n",
              "      <td>0.244898</td>\n",
              "      <td>0.60</td>\n",
              "      <td>30</td>\n",
              "      <td>184</td>\n",
              "      <td>214</td>\n",
              "      <td>0.000000</td>\n",
              "      <td>1.0</td>\n",
              "      <td>0.826087</td>\n",
              "      <td>31</td>\n",
              "      <td>2012</td>\n",
              "      <td>0.0</td>\n",
              "      <td>1.0</td>\n",
              "      <td>1</td>\n",
              "      <td>0</td>\n",
              "      <td>0</td>\n",
              "      <td>0</td>\n",
              "      <td>0</td>\n",
              "      <td>1</td>\n",
              "      <td>0</td>\n",
              "      <td>0</td>\n",
              "    </tr>\n",
              "    <tr>\n",
              "      <th>6434</th>\n",
              "      <td>0</td>\n",
              "      <td>1</td>\n",
              "      <td>0.244898</td>\n",
              "      <td>0.60</td>\n",
              "      <td>14</td>\n",
              "      <td>150</td>\n",
              "      <td>164</td>\n",
              "      <td>0.000000</td>\n",
              "      <td>1.0</td>\n",
              "      <td>0.869565</td>\n",
              "      <td>31</td>\n",
              "      <td>2012</td>\n",
              "      <td>0.0</td>\n",
              "      <td>0.0</td>\n",
              "      <td>1</td>\n",
              "      <td>0</td>\n",
              "      <td>0</td>\n",
              "      <td>0</td>\n",
              "      <td>0</td>\n",
              "      <td>1</td>\n",
              "      <td>0</td>\n",
              "      <td>0</td>\n",
              "    </tr>\n",
              "    <tr>\n",
              "      <th>6435</th>\n",
              "      <td>0</td>\n",
              "      <td>1</td>\n",
              "      <td>0.244898</td>\n",
              "      <td>0.60</td>\n",
              "      <td>10</td>\n",
              "      <td>112</td>\n",
              "      <td>122</td>\n",
              "      <td>0.000000</td>\n",
              "      <td>1.0</td>\n",
              "      <td>0.913043</td>\n",
              "      <td>31</td>\n",
              "      <td>2012</td>\n",
              "      <td>0.0</td>\n",
              "      <td>0.0</td>\n",
              "      <td>1</td>\n",
              "      <td>0</td>\n",
              "      <td>0</td>\n",
              "      <td>0</td>\n",
              "      <td>1</td>\n",
              "      <td>0</td>\n",
              "      <td>0</td>\n",
              "      <td>0</td>\n",
              "    </tr>\n",
              "    <tr>\n",
              "      <th>6436</th>\n",
              "      <td>0</td>\n",
              "      <td>1</td>\n",
              "      <td>0.244898</td>\n",
              "      <td>0.56</td>\n",
              "      <td>11</td>\n",
              "      <td>108</td>\n",
              "      <td>119</td>\n",
              "      <td>0.000000</td>\n",
              "      <td>1.0</td>\n",
              "      <td>0.956522</td>\n",
              "      <td>31</td>\n",
              "      <td>2012</td>\n",
              "      <td>0.0</td>\n",
              "      <td>0.0</td>\n",
              "      <td>1</td>\n",
              "      <td>0</td>\n",
              "      <td>0</td>\n",
              "      <td>0</td>\n",
              "      <td>1</td>\n",
              "      <td>0</td>\n",
              "      <td>0</td>\n",
              "      <td>0</td>\n",
              "    </tr>\n",
              "    <tr>\n",
              "      <th>6437</th>\n",
              "      <td>0</td>\n",
              "      <td>1</td>\n",
              "      <td>0.244898</td>\n",
              "      <td>0.65</td>\n",
              "      <td>8</td>\n",
              "      <td>81</td>\n",
              "      <td>89</td>\n",
              "      <td>0.000000</td>\n",
              "      <td>1.0</td>\n",
              "      <td>1.000000</td>\n",
              "      <td>31</td>\n",
              "      <td>2012</td>\n",
              "      <td>0.0</td>\n",
              "      <td>0.0</td>\n",
              "      <td>1</td>\n",
              "      <td>0</td>\n",
              "      <td>0</td>\n",
              "      <td>0</td>\n",
              "      <td>1</td>\n",
              "      <td>0</td>\n",
              "      <td>0</td>\n",
              "      <td>0</td>\n",
              "    </tr>\n",
              "  </tbody>\n",
              "</table>\n",
              "<p>17082 rows × 22 columns</p>\n",
              "</div>"
            ],
            "text/plain": [
              "      holiday  workingday      temp  ...  weather_2  weather_3  weather_4\n",
              "0           0           0  0.224490  ...          0          0          0\n",
              "1           0           0  0.204082  ...          0          0          0\n",
              "2           0           0  0.204082  ...          0          0          0\n",
              "3           0           0  0.224490  ...          0          0          0\n",
              "4           0           0  0.224490  ...          0          0          0\n",
              "...       ...         ...       ...  ...        ...        ...        ...\n",
              "6433        0           1  0.244898  ...          1          0          0\n",
              "6434        0           1  0.244898  ...          1          0          0\n",
              "6435        0           1  0.244898  ...          0          0          0\n",
              "6436        0           1  0.244898  ...          0          0          0\n",
              "6437        0           1  0.244898  ...          0          0          0\n",
              "\n",
              "[17082 rows x 22 columns]"
            ]
          },
          "metadata": {
            "tags": []
          },
          "execution_count": 287
        }
      ]
    },
    {
      "cell_type": "code",
      "metadata": {
        "id": "8HSUVBnX-SDD"
      },
      "source": [
        "# menggunakan alternatif pertama\n",
        "from sklearn.model_selection import train_test_split # untuk memisah data menjadi train dan validation set\n",
        "\n",
        "X = data.drop(['casual', 'registered', 'count'], axis=1) # Variabel prediktor\n",
        "\n",
        "y = data['count'] # Variable target\n",
        "\n",
        "X_train, X_val, y_train, y_val = train_test_split(X, y, test_size=0.33, random_state=42) #memisah data menjadi train dan validation"
      ],
      "execution_count": null,
      "outputs": []
    },
    {
      "cell_type": "markdown",
      "metadata": {
        "id": "-l41pZqdV3vB"
      },
      "source": [
        "# Modelling"
      ]
    },
    {
      "cell_type": "markdown",
      "metadata": {
        "id": "fbUQ5XoJ6ilA"
      },
      "source": [
        "<p align=\"justify\">\n",
        "Kali ini kita akan menggunakan dua buah model sederhana yaitu model regresi lasso dan regression tree. Kedua model ini sangatlah sederhana namun merupakan dasar pada pembelajaran mesin. Harapannya anda dapat mengetahui konsep 'learning' dan 'reguralisasi' dari model ini. Teori dari tiap model tidak akan dijelaskan dengan detil jika ingin mengetahui teori dengan detil dapat membaca buku <a href=\"http://faculty.marshall.usc.edu/gareth-james/ISL/\">ISLR</a>.\n",
        "</p>"
      ]
    },
    {
      "cell_type": "markdown",
      "metadata": {
        "id": "RwSbB6GzV6oA"
      },
      "source": [
        "**Regresi lasso**\n",
        "<p align=\"justify\">\n",
        "Salah satu teknik pemodelan prediktif yang umum digunakan ketika mempelajari machine learning adalah regresi. Regresi digunakan untuk mengetahui faktor-faktor (atau prediktor) yang dapat mempengaruhi hasil atau output yang diharapkan. Bentuk persamaan regresi dapat berupa univariat atau multivariat, bergantung jumlah prediktor yang diakomodasi. Berikut adalah persamaan umum regresi: </p><br>\n",
        "\n",
        "<p align=\"center\">$\\hat{y}_i = \\sum_{j=1}^Na_{j}x_{ij}+ b$</p>\n",
        "\n",
        "<p align=\"justify\">\n",
        "Regresi ini akan mencari nilai dari parameter $a$ dan $b$ yang meminimasi $\\sum_i^N(y_i-\\hat{y}_i)^2$. Alhasil sering disebut sebagai metode <i>ordinary least square</i> (OLS). Sayangnya metode ini cenderung tidak sempurna apabila terdapat banyak kolom. Untuk kasus data yang memiliki banyak kolom biasanya digunakan metode regresi lasso. Regresi lasso menyusutkan koefisien regresi dari variabel bebas yang memiliki korelasi tinggi menjadi tepat pada nol atau mendekati nol. Berikut adalah visualisasi pencarian koefisien pada regresi ini\n",
        "</p>"
      ]
    },
    {
      "cell_type": "markdown",
      "metadata": {
        "id": "B1Md0OPUSkf-"
      },
      "source": [
        "<figure>\n",
        "<center>\n",
        "<img src=\"https://hackernoon.com/hn-images/0*D7zG46WrdKx54pbU.gif\" width=\"800\" />\n",
        "<figcaption> Gambar 2 - Sthocastic Gradient Descent (sumber: alykhantejani.github.io) </figcaption></center>\n",
        "</figure>"
      ]
    },
    {
      "cell_type": "markdown",
      "metadata": {
        "id": "Tcd_kZ-weyTx"
      },
      "source": [
        "**28. Bangun model regresi lasso**"
      ]
    },
    {
      "cell_type": "code",
      "metadata": {
        "id": "txtFjqidJddD",
        "colab": {
          "base_uri": "https://localhost:8080/",
          "height": 676
        },
        "outputId": "be80c129-f2a2-41ce-abbd-fa79eca1fb8c"
      },
      "source": [
        "#membangun fungsi regresi lasso dengan linear_model\n",
        "from sklearn.linear_model import Lasso\n",
        "\n",
        "model_la = Lasso(alpha=0.5, max_iter=200000000) #menspesifikasikan hyperparameter model\n",
        "\n",
        "model_la.fit(X_train, y_train)\n",
        "\n",
        "#menampilkan koefisien dan konstanta regresi\n",
        "lasso_result = pd.DataFrame()\n",
        "predictor = ['intercept'] + list(X.columns)\n",
        "coef = [model_la.intercept_] + list(model_la.coef_)\n",
        "\n",
        "lasso_result['predictor'] = predictor\n",
        "lasso_result['coefficient'] = coef\n",
        "\n",
        "# tampilkan dataframe\n",
        "lasso_result"
      ],
      "execution_count": null,
      "outputs": [
        {
          "output_type": "execute_result",
          "data": {
            "text/html": [
              "<div>\n",
              "<style scoped>\n",
              "    .dataframe tbody tr th:only-of-type {\n",
              "        vertical-align: middle;\n",
              "    }\n",
              "\n",
              "    .dataframe tbody tr th {\n",
              "        vertical-align: top;\n",
              "    }\n",
              "\n",
              "    .dataframe thead th {\n",
              "        text-align: right;\n",
              "    }\n",
              "</style>\n",
              "<table border=\"1\" class=\"dataframe\">\n",
              "  <thead>\n",
              "    <tr style=\"text-align: right;\">\n",
              "      <th></th>\n",
              "      <th>predictor</th>\n",
              "      <th>coefficient</th>\n",
              "    </tr>\n",
              "  </thead>\n",
              "  <tbody>\n",
              "    <tr>\n",
              "      <th>0</th>\n",
              "      <td>intercept</td>\n",
              "      <td>-136152.578800</td>\n",
              "    </tr>\n",
              "    <tr>\n",
              "      <th>1</th>\n",
              "      <td>holiday</td>\n",
              "      <td>-0.000000</td>\n",
              "    </tr>\n",
              "    <tr>\n",
              "      <th>2</th>\n",
              "      <td>workingday</td>\n",
              "      <td>-0.000000</td>\n",
              "    </tr>\n",
              "    <tr>\n",
              "      <th>3</th>\n",
              "      <td>temp</td>\n",
              "      <td>271.842891</td>\n",
              "    </tr>\n",
              "    <tr>\n",
              "      <th>4</th>\n",
              "      <td>humidity</td>\n",
              "      <td>-121.819551</td>\n",
              "    </tr>\n",
              "    <tr>\n",
              "      <th>5</th>\n",
              "      <td>dayofweek</td>\n",
              "      <td>7.892228</td>\n",
              "    </tr>\n",
              "    <tr>\n",
              "      <th>6</th>\n",
              "      <td>month</td>\n",
              "      <td>0.000000</td>\n",
              "    </tr>\n",
              "    <tr>\n",
              "      <th>7</th>\n",
              "      <td>hour</td>\n",
              "      <td>88.810322</td>\n",
              "    </tr>\n",
              "    <tr>\n",
              "      <th>8</th>\n",
              "      <td>day</td>\n",
              "      <td>-0.269666</td>\n",
              "    </tr>\n",
              "    <tr>\n",
              "      <th>9</th>\n",
              "      <td>year</td>\n",
              "      <td>67.720164</td>\n",
              "    </tr>\n",
              "    <tr>\n",
              "      <th>10</th>\n",
              "      <td>GoToWork</td>\n",
              "      <td>97.735388</td>\n",
              "    </tr>\n",
              "    <tr>\n",
              "      <th>11</th>\n",
              "      <td>GoHome</td>\n",
              "      <td>93.452671</td>\n",
              "    </tr>\n",
              "    <tr>\n",
              "      <th>12</th>\n",
              "      <td>season_1</td>\n",
              "      <td>-28.642323</td>\n",
              "    </tr>\n",
              "    <tr>\n",
              "      <th>13</th>\n",
              "      <td>season_2</td>\n",
              "      <td>0.000000</td>\n",
              "    </tr>\n",
              "    <tr>\n",
              "      <th>14</th>\n",
              "      <td>season_3</td>\n",
              "      <td>-20.661379</td>\n",
              "    </tr>\n",
              "    <tr>\n",
              "      <th>15</th>\n",
              "      <td>season_4</td>\n",
              "      <td>28.562244</td>\n",
              "    </tr>\n",
              "    <tr>\n",
              "      <th>16</th>\n",
              "      <td>weather_1</td>\n",
              "      <td>1.229101</td>\n",
              "    </tr>\n",
              "    <tr>\n",
              "      <th>17</th>\n",
              "      <td>weather_2</td>\n",
              "      <td>-0.000000</td>\n",
              "    </tr>\n",
              "    <tr>\n",
              "      <th>18</th>\n",
              "      <td>weather_3</td>\n",
              "      <td>-31.039879</td>\n",
              "    </tr>\n",
              "    <tr>\n",
              "      <th>19</th>\n",
              "      <td>weather_4</td>\n",
              "      <td>0.000000</td>\n",
              "    </tr>\n",
              "  </tbody>\n",
              "</table>\n",
              "</div>"
            ],
            "text/plain": [
              "     predictor    coefficient\n",
              "0    intercept -136152.578800\n",
              "1      holiday      -0.000000\n",
              "2   workingday      -0.000000\n",
              "3         temp     271.842891\n",
              "4     humidity    -121.819551\n",
              "5    dayofweek       7.892228\n",
              "6        month       0.000000\n",
              "7         hour      88.810322\n",
              "8          day      -0.269666\n",
              "9         year      67.720164\n",
              "10    GoToWork      97.735388\n",
              "11      GoHome      93.452671\n",
              "12    season_1     -28.642323\n",
              "13    season_2       0.000000\n",
              "14    season_3     -20.661379\n",
              "15    season_4      28.562244\n",
              "16   weather_1       1.229101\n",
              "17   weather_2      -0.000000\n",
              "18   weather_3     -31.039879\n",
              "19   weather_4       0.000000"
            ]
          },
          "metadata": {
            "tags": []
          },
          "execution_count": 289
        }
      ]
    },
    {
      "cell_type": "markdown",
      "metadata": {
        "id": "6fZQ2NHmZCy8"
      },
      "source": [
        "<p align=\"justify\">\n",
        "Berhubung setiap kolom sudah berskala sama maka dapat kita tentukan mana variable yang paling penting. Variable yang paling penting adalah yang nilai absolutnya paling besar. Dalam kasus ini temperatur, humidity, GoHome, GoToWork, Hour, dan Year. Kita juga bisa menginterpretasikan apa yang terjadi bila nilai suatu variable dinaikan atau diturunkan. Misalnya kita bisa menyimpulkan nilai permintaan akan naik apabila tahun semakin besar dan akan turun apabila nilai humiditas semakin besar.\n",
        "</p>"
      ]
    },
    {
      "cell_type": "markdown",
      "metadata": {
        "id": "1mXh2ebBR8WB"
      },
      "source": [
        "**Regression Tree**"
      ]
    },
    {
      "cell_type": "markdown",
      "metadata": {
        "id": "eWS4s8B-UrQD"
      },
      "source": [
        "<p align=\"justify\">\n",
        "Beberapa orang mengira bahwasannya metode tree-based hanya digunakan untuk klasifikasi namun sebenarnya dapat juga digunakan untuk regresi. Jika anda sudah mengenal decision tree maka anda hanya perlu mensubtitusi gini impurity dengan mean squared error. Sisanya sama saja.\n",
        "</p>\n",
        "\n",
        "<p align=\"justify\">\n",
        "Jika anda masih belum familiar jangan khawatir. Tujuan dari model ini sangatlah sederhana. Model ini mencari suatu decision rule terbaik untuk memprediksi suatu nilai. Decision rule merupakan serangkaian kondisi if-else. Misalkan apabila saya belajar >8 jam per hari maka IP semester ini akan >3.5. Jika saya belajar 8.5 jam maka regression tree akan memprediksi IP saya sebesar 3.5. Anda ingin mencari decison rule seperti ini untuk memprediksi suatu nilai. Rule dari regressin tree akan membuat sebuah batasan seperti pada Gambar 3. Rata-rata nilai pada batasan tersebut dikurangi dengan nilai sebenarnya merupakan kriteria penentuan batasan. Akan dicari nilai rata-rata pada batasan dikurangi nilai sebenarnya yang minimum.\n",
        "</p>\n",
        "\n",
        "<figure>\n",
        "<center>\n",
        "<img src=\"https://scikit-learn.org/stable/_images/sphx_glr_plot_tree_regression_0011.png\" width=\"500\" />\n",
        "<figcaption> Gambar 2 - Regression Tree Boundary (sumber: scikit-learn.org) </figcaption></center>\n",
        "</figure>\n",
        "\n",
        "<p align=\"justify\">\n",
        "Decision tree ini cenderung untuk <i>overfitting</i> metode untuk reguralisasinya adalah dengan membatasi jumlah boundary yang dibuat. Caranya adalah dengan membuat max_depth (tinggi dari pohon) yang kecil atau n_leaves (jumlah cabang pohon) yang kecil. Dapat dilihat juga boundary dari decision tree pasti linear. Apabila ingin model decision tree yang jauh lebih baik dapat digunakan model kembangannya dengan nama random forest.\n",
        "</p>\n",
        "\n",
        "<p align=\"justify\">\n",
        "Gambar 3 adalah contoh hasil regression tree untuk memprediksi harga suatu mobil. Pertama akan dicek berapa displacement (total kilometer) dari mobil yang dimiliki. Apabila lebih besar dari rata-rata (190.5) maka akan dicek horsepower yang dimiliki. Jika lebih besar dari 127 maka harga mobil tersebut 14.537 USD sedangkan jika lebih kecil maka harganya 19.533 USD. Untuk penjelasan dengan visualisasi yang menarik bisa dilihat di <a href=\"https://www.youtube.com/watch?v=g9c66TUylZ4&t=1s\">StatQuest</a>.\n",
        "</p>\n",
        "<figure>\n",
        "<center>\n",
        "<img src=\"https://i.ytimg.com/vi/1p_cvXAjNTM/hqdefault.jpg\" width=\"300\" />\n",
        "<figcaption> Gambar 3 - Regression Tree Result (sumber: StatQuest.com) </figcaption></center>\n",
        "</figure>\n",
        "\n"
      ]
    },
    {
      "cell_type": "markdown",
      "metadata": {
        "id": "BrZw8QNpe7Oo"
      },
      "source": [
        "**29. Bangun model Decision Tree Regressor**"
      ]
    },
    {
      "cell_type": "code",
      "metadata": {
        "id": "K-wuX_rW8L2Z",
        "colab": {
          "base_uri": "https://localhost:8080/"
        },
        "outputId": "9a691f57-36e5-48fd-81d7-68b81d345ad6"
      },
      "source": [
        "# memasukan model regression tree\n",
        "from sklearn.tree import DecisionTreeRegressor\n",
        "# memasukan library untuk menggambar decision tree\n",
        "from sklearn import tree\n",
        "from dtreeviz.trees import *\n",
        "from IPython.display import Image, display_svg, SVG\n",
        "\n",
        "# buat model decision tree\n",
        "# kriteria boundary yang digunakan mse\n",
        "dt = DecisionTreeRegressor(criterion='mse', max_features='sqrt', max_depth=3, random_state=5)\n",
        "dt.fit(X_train, y_train)\n"
      ],
      "execution_count": null,
      "outputs": [
        {
          "output_type": "execute_result",
          "data": {
            "text/plain": [
              "DecisionTreeRegressor(ccp_alpha=0.0, criterion='mse', max_depth=3,\n",
              "                      max_features='sqrt', max_leaf_nodes=None,\n",
              "                      min_impurity_decrease=0.0, min_impurity_split=None,\n",
              "                      min_samples_leaf=1, min_samples_split=2,\n",
              "                      min_weight_fraction_leaf=0.0, presort='deprecated',\n",
              "                      random_state=5, splitter='best')"
            ]
          },
          "metadata": {
            "tags": []
          },
          "execution_count": 290
        }
      ]
    },
    {
      "cell_type": "code",
      "metadata": {
        "colab": {
          "base_uri": "https://localhost:8080/",
          "height": 538
        },
        "id": "UWthU3QZkpGS",
        "outputId": "7c7fb70f-c04e-4466-c134-f02fe5414277"
      },
      "source": [
        "# Membuat gambar decision tree yang  lebih jelas\n",
        "import graphviz\n",
        "\n",
        "# DOT data\n",
        "dot_data = tree.export_graphviz(dt,\n",
        "                                feature_names=X_train.columns,\n",
        "                                class_names=True,\n",
        "                                rounded=True,\n",
        "                                filled=True)\n",
        "\n",
        "# Menggambar decision tree\n",
        "graph = graphviz.Source(dot_data, format=\"png\")\n",
        "graph"
      ],
      "execution_count": null,
      "outputs": [
        {
          "output_type": "execute_result",
          "data": {
            "text/plain": [
              "<graphviz.files.Source at 0x7fea497b7510>"
            ],
            "image/svg+xml": "<?xml version=\"1.0\" encoding=\"UTF-8\" standalone=\"no\"?>\n<!DOCTYPE svg PUBLIC \"-//W3C//DTD SVG 1.1//EN\"\n \"http://www.w3.org/Graphics/SVG/1.1/DTD/svg11.dtd\">\n<!-- Generated by graphviz version 2.40.1 (20161225.0304)\n -->\n<!-- Title: Tree Pages: 1 -->\n<svg width=\"1166pt\" height=\"373pt\"\n viewBox=\"0.00 0.00 1166.00 373.00\" xmlns=\"http://www.w3.org/2000/svg\" xmlns:xlink=\"http://www.w3.org/1999/xlink\">\n<g id=\"graph0\" class=\"graph\" transform=\"scale(1 1) rotate(0) translate(4 369)\">\n<title>Tree</title>\n<polygon fill=\"#ffffff\" stroke=\"transparent\" points=\"-4,4 -4,-369 1162,-369 1162,4 -4,4\"/>\n<!-- 0 -->\n<g id=\"node1\" class=\"node\">\n<title>0</title>\n<path fill=\"#f7d7c1\" stroke=\"#000000\" d=\"M636,-365C636,-365 530,-365 530,-365 524,-365 518,-359 518,-353 518,-353 518,-309 518,-309 518,-303 524,-297 530,-297 530,-297 636,-297 636,-297 642,-297 648,-303 648,-309 648,-309 648,-353 648,-353 648,-359 642,-365 636,-365\"/>\n<text text-anchor=\"middle\" x=\"583\" y=\"-349.8\" font-family=\"Helvetica,sans-Serif\" font-size=\"14.00\" fill=\"#000000\">GoHome &lt;= 0.5</text>\n<text text-anchor=\"middle\" x=\"583\" y=\"-334.8\" font-family=\"Helvetica,sans-Serif\" font-size=\"14.00\" fill=\"#000000\">mse = 28049.272</text>\n<text text-anchor=\"middle\" x=\"583\" y=\"-319.8\" font-family=\"Helvetica,sans-Serif\" font-size=\"14.00\" fill=\"#000000\">samples = 11444</text>\n<text text-anchor=\"middle\" x=\"583\" y=\"-304.8\" font-family=\"Helvetica,sans-Serif\" font-size=\"14.00\" fill=\"#000000\">value = 182.848</text>\n</g>\n<!-- 1 -->\n<g id=\"node2\" class=\"node\">\n<title>1</title>\n<path fill=\"#f8dfcd\" stroke=\"#000000\" d=\"M488,-261C488,-261 382,-261 382,-261 376,-261 370,-255 370,-249 370,-249 370,-205 370,-205 370,-199 376,-193 382,-193 382,-193 488,-193 488,-193 494,-193 500,-199 500,-205 500,-205 500,-249 500,-249 500,-255 494,-261 488,-261\"/>\n<text text-anchor=\"middle\" x=\"435\" y=\"-245.8\" font-family=\"Helvetica,sans-Serif\" font-size=\"14.00\" fill=\"#000000\">season_2 &lt;= 0.5</text>\n<text text-anchor=\"middle\" x=\"435\" y=\"-230.8\" font-family=\"Helvetica,sans-Serif\" font-size=\"14.00\" fill=\"#000000\">mse = 25336.962</text>\n<text text-anchor=\"middle\" x=\"435\" y=\"-215.8\" font-family=\"Helvetica,sans-Serif\" font-size=\"14.00\" fill=\"#000000\">samples = 10026</text>\n<text text-anchor=\"middle\" x=\"435\" y=\"-200.8\" font-family=\"Helvetica,sans-Serif\" font-size=\"14.00\" fill=\"#000000\">value = 166.292</text>\n</g>\n<!-- 0&#45;&gt;1 -->\n<g id=\"edge1\" class=\"edge\">\n<title>0&#45;&gt;1</title>\n<path fill=\"none\" stroke=\"#000000\" d=\"M534.5393,-296.9465C520.8677,-287.3395 505.8706,-276.8009 491.7591,-266.8848\"/>\n<polygon fill=\"#000000\" stroke=\"#000000\" points=\"493.7639,-264.0158 483.5696,-261.13 489.7392,-269.7432 493.7639,-264.0158\"/>\n<text text-anchor=\"middle\" x=\"487.8696\" y=\"-282.0574\" font-family=\"Helvetica,sans-Serif\" font-size=\"14.00\" fill=\"#000000\">True</text>\n</g>\n<!-- 8 -->\n<g id=\"node9\" class=\"node\">\n<title>8</title>\n<path fill=\"#eba06a\" stroke=\"#000000\" d=\"M778,-261C778,-261 680,-261 680,-261 674,-261 668,-255 668,-249 668,-249 668,-205 668,-205 668,-199 674,-193 680,-193 680,-193 778,-193 778,-193 784,-193 790,-199 790,-205 790,-205 790,-249 790,-249 790,-255 784,-261 778,-261\"/>\n<text text-anchor=\"middle\" x=\"729\" y=\"-245.8\" font-family=\"Helvetica,sans-Serif\" font-size=\"14.00\" fill=\"#000000\">day &lt;= 19.5</text>\n<text text-anchor=\"middle\" x=\"729\" y=\"-230.8\" font-family=\"Helvetica,sans-Serif\" font-size=\"14.00\" fill=\"#000000\">mse = 31585.48</text>\n<text text-anchor=\"middle\" x=\"729\" y=\"-215.8\" font-family=\"Helvetica,sans-Serif\" font-size=\"14.00\" fill=\"#000000\">samples = 1418</text>\n<text text-anchor=\"middle\" x=\"729\" y=\"-200.8\" font-family=\"Helvetica,sans-Serif\" font-size=\"14.00\" fill=\"#000000\">value = 299.908</text>\n</g>\n<!-- 0&#45;&gt;8 -->\n<g id=\"edge8\" class=\"edge\">\n<title>0&#45;&gt;8</title>\n<path fill=\"none\" stroke=\"#000000\" d=\"M630.8059,-296.9465C644.1666,-287.4293 658.8107,-276.9978 672.6174,-267.163\"/>\n<polygon fill=\"#000000\" stroke=\"#000000\" points=\"674.9725,-269.7826 681.0867,-261.13 670.9112,-264.0811 674.9725,-269.7826\"/>\n<text text-anchor=\"middle\" x=\"676.9448\" y=\"-282.0845\" font-family=\"Helvetica,sans-Serif\" font-size=\"14.00\" fill=\"#000000\">False</text>\n</g>\n<!-- 2 -->\n<g id=\"node3\" class=\"node\">\n<title>2</title>\n<path fill=\"#f9e2d2\" stroke=\"#000000\" d=\"M266,-157C266,-157 160,-157 160,-157 154,-157 148,-151 148,-145 148,-145 148,-101 148,-101 148,-95 154,-89 160,-89 160,-89 266,-89 266,-89 272,-89 278,-95 278,-101 278,-101 278,-145 278,-145 278,-151 272,-157 266,-157\"/>\n<text text-anchor=\"middle\" x=\"213\" y=\"-141.8\" font-family=\"Helvetica,sans-Serif\" font-size=\"14.00\" fill=\"#000000\">month &lt;= 0.318</text>\n<text text-anchor=\"middle\" x=\"213\" y=\"-126.8\" font-family=\"Helvetica,sans-Serif\" font-size=\"14.00\" fill=\"#000000\">mse = 24276.311</text>\n<text text-anchor=\"middle\" x=\"213\" y=\"-111.8\" font-family=\"Helvetica,sans-Serif\" font-size=\"14.00\" fill=\"#000000\">samples = 7463</text>\n<text text-anchor=\"middle\" x=\"213\" y=\"-96.8\" font-family=\"Helvetica,sans-Serif\" font-size=\"14.00\" fill=\"#000000\">value = 160.424</text>\n</g>\n<!-- 1&#45;&gt;2 -->\n<g id=\"edge2\" class=\"edge\">\n<title>1&#45;&gt;2</title>\n<path fill=\"none\" stroke=\"#000000\" d=\"M369.8927,-196.4993C344.0276,-184.3823 314.1275,-170.375 287.4113,-157.8594\"/>\n<polygon fill=\"#000000\" stroke=\"#000000\" points=\"288.6465,-154.573 278.1061,-153.5002 285.6769,-160.9119 288.6465,-154.573\"/>\n</g>\n<!-- 5 -->\n<g id=\"node6\" class=\"node\">\n<title>5</title>\n<path fill=\"#f7d7c0\" stroke=\"#000000\" d=\"M488,-157C488,-157 382,-157 382,-157 376,-157 370,-151 370,-145 370,-145 370,-101 370,-101 370,-95 376,-89 382,-89 382,-89 488,-89 488,-89 494,-89 500,-95 500,-101 500,-101 500,-145 500,-145 500,-151 494,-157 488,-157\"/>\n<text text-anchor=\"middle\" x=\"435\" y=\"-141.8\" font-family=\"Helvetica,sans-Serif\" font-size=\"14.00\" fill=\"#000000\">year &lt;= 2011.5</text>\n<text text-anchor=\"middle\" x=\"435\" y=\"-126.8\" font-family=\"Helvetica,sans-Serif\" font-size=\"14.00\" fill=\"#000000\">mse = 28033.182</text>\n<text text-anchor=\"middle\" x=\"435\" y=\"-111.8\" font-family=\"Helvetica,sans-Serif\" font-size=\"14.00\" fill=\"#000000\">samples = 2563</text>\n<text text-anchor=\"middle\" x=\"435\" y=\"-96.8\" font-family=\"Helvetica,sans-Serif\" font-size=\"14.00\" fill=\"#000000\">value = 183.378</text>\n</g>\n<!-- 1&#45;&gt;5 -->\n<g id=\"edge5\" class=\"edge\">\n<title>1&#45;&gt;5</title>\n<path fill=\"none\" stroke=\"#000000\" d=\"M435,-192.9465C435,-184.776 435,-175.9318 435,-167.3697\"/>\n<polygon fill=\"#000000\" stroke=\"#000000\" points=\"438.5001,-167.13 435,-157.13 431.5001,-167.13 438.5001,-167.13\"/>\n</g>\n<!-- 3 -->\n<g id=\"node4\" class=\"node\">\n<title>3</title>\n<path fill=\"#ffffff\" stroke=\"#000000\" d=\"M118,-53C118,-53 12,-53 12,-53 6,-53 0,-47 0,-41 0,-41 0,-12 0,-12 0,-6 6,0 12,0 12,0 118,0 118,0 124,0 130,-6 130,-12 130,-12 130,-41 130,-41 130,-47 124,-53 118,-53\"/>\n<text text-anchor=\"middle\" x=\"65\" y=\"-37.8\" font-family=\"Helvetica,sans-Serif\" font-size=\"14.00\" fill=\"#000000\">mse = 12009.764</text>\n<text text-anchor=\"middle\" x=\"65\" y=\"-22.8\" font-family=\"Helvetica,sans-Serif\" font-size=\"14.00\" fill=\"#000000\">samples = 2135</text>\n<text text-anchor=\"middle\" x=\"65\" y=\"-7.8\" font-family=\"Helvetica,sans-Serif\" font-size=\"14.00\" fill=\"#000000\">value = 99.422</text>\n</g>\n<!-- 2&#45;&gt;3 -->\n<g id=\"edge3\" class=\"edge\">\n<title>2&#45;&gt;3</title>\n<path fill=\"none\" stroke=\"#000000\" d=\"M160.8207,-88.9777C145.7938,-79.1798 129.4485,-68.5222 114.5836,-58.8298\"/>\n<polygon fill=\"#000000\" stroke=\"#000000\" points=\"116.3119,-55.7785 106.0236,-53.2485 112.4886,-61.6422 116.3119,-55.7785\"/>\n</g>\n<!-- 4 -->\n<g id=\"node5\" class=\"node\">\n<title>4</title>\n<path fill=\"#f7d7bf\" stroke=\"#000000\" d=\"M266,-53C266,-53 160,-53 160,-53 154,-53 148,-47 148,-41 148,-41 148,-12 148,-12 148,-6 154,0 160,0 160,0 266,0 266,0 272,0 278,-6 278,-12 278,-12 278,-41 278,-41 278,-47 272,-53 266,-53\"/>\n<text text-anchor=\"middle\" x=\"213\" y=\"-37.8\" font-family=\"Helvetica,sans-Serif\" font-size=\"14.00\" fill=\"#000000\">mse = 27103.056</text>\n<text text-anchor=\"middle\" x=\"213\" y=\"-22.8\" font-family=\"Helvetica,sans-Serif\" font-size=\"14.00\" fill=\"#000000\">samples = 5328</text>\n<text text-anchor=\"middle\" x=\"213\" y=\"-7.8\" font-family=\"Helvetica,sans-Serif\" font-size=\"14.00\" fill=\"#000000\">value = 184.868</text>\n</g>\n<!-- 2&#45;&gt;4 -->\n<g id=\"edge4\" class=\"edge\">\n<title>2&#45;&gt;4</title>\n<path fill=\"none\" stroke=\"#000000\" d=\"M213,-88.9777C213,-80.7364 213,-71.887 213,-63.5153\"/>\n<polygon fill=\"#000000\" stroke=\"#000000\" points=\"216.5001,-63.2484 213,-53.2485 209.5001,-63.2485 216.5001,-63.2484\"/>\n</g>\n<!-- 6 -->\n<g id=\"node7\" class=\"node\">\n<title>6</title>\n<path fill=\"#fbeee4\" stroke=\"#000000\" d=\"M414,-53C414,-53 308,-53 308,-53 302,-53 296,-47 296,-41 296,-41 296,-12 296,-12 296,-6 302,0 308,0 308,0 414,0 414,0 420,0 426,-6 426,-12 426,-12 426,-41 426,-41 426,-47 420,-53 414,-53\"/>\n<text text-anchor=\"middle\" x=\"361\" y=\"-37.8\" font-family=\"Helvetica,sans-Serif\" font-size=\"14.00\" fill=\"#000000\">mse = 14337.389</text>\n<text text-anchor=\"middle\" x=\"361\" y=\"-22.8\" font-family=\"Helvetica,sans-Serif\" font-size=\"14.00\" fill=\"#000000\">samples = 1289</text>\n<text text-anchor=\"middle\" x=\"361\" y=\"-7.8\" font-family=\"Helvetica,sans-Serif\" font-size=\"14.00\" fill=\"#000000\">value = 135.372</text>\n</g>\n<!-- 5&#45;&gt;6 -->\n<g id=\"edge6\" class=\"edge\">\n<title>5&#45;&gt;6</title>\n<path fill=\"none\" stroke=\"#000000\" d=\"M408.9104,-88.9777C402.0289,-80.0039 394.5944,-70.3089 387.6822,-61.295\"/>\n<polygon fill=\"#000000\" stroke=\"#000000\" points=\"390.3744,-59.0541 381.5118,-53.2485 384.8196,-63.3137 390.3744,-59.0541\"/>\n</g>\n<!-- 7 -->\n<g id=\"node8\" class=\"node\">\n<title>7</title>\n<path fill=\"#f2c09c\" stroke=\"#000000\" d=\"M562,-53C562,-53 456,-53 456,-53 450,-53 444,-47 444,-41 444,-41 444,-12 444,-12 444,-6 450,0 456,0 456,0 562,0 562,0 568,0 574,-6 574,-12 574,-12 574,-41 574,-41 574,-47 568,-53 562,-53\"/>\n<text text-anchor=\"middle\" x=\"509\" y=\"-37.8\" font-family=\"Helvetica,sans-Serif\" font-size=\"14.00\" fill=\"#000000\">mse = 37199.264</text>\n<text text-anchor=\"middle\" x=\"509\" y=\"-22.8\" font-family=\"Helvetica,sans-Serif\" font-size=\"14.00\" fill=\"#000000\">samples = 1274</text>\n<text text-anchor=\"middle\" x=\"509\" y=\"-7.8\" font-family=\"Helvetica,sans-Serif\" font-size=\"14.00\" fill=\"#000000\">value = 231.95</text>\n</g>\n<!-- 5&#45;&gt;7 -->\n<g id=\"edge7\" class=\"edge\">\n<title>5&#45;&gt;7</title>\n<path fill=\"none\" stroke=\"#000000\" d=\"M461.0896,-88.9777C467.9711,-80.0039 475.4056,-70.3089 482.3178,-61.295\"/>\n<polygon fill=\"#000000\" stroke=\"#000000\" points=\"485.1804,-63.3137 488.4882,-53.2485 479.6256,-59.0541 485.1804,-63.3137\"/>\n</g>\n<!-- 9 -->\n<g id=\"node10\" class=\"node\">\n<title>9</title>\n<path fill=\"#e5823a\" stroke=\"#000000\" d=\"M782,-157C782,-157 676,-157 676,-157 670,-157 664,-151 664,-145 664,-145 664,-101 664,-101 664,-95 670,-89 676,-89 676,-89 782,-89 782,-89 788,-89 794,-95 794,-101 794,-101 794,-145 794,-145 794,-151 788,-157 782,-157\"/>\n<text text-anchor=\"middle\" x=\"729\" y=\"-141.8\" font-family=\"Helvetica,sans-Serif\" font-size=\"14.00\" fill=\"#000000\">holiday &lt;= 0.5</text>\n<text text-anchor=\"middle\" x=\"729\" y=\"-126.8\" font-family=\"Helvetica,sans-Serif\" font-size=\"14.00\" fill=\"#000000\">mse = 30239.552</text>\n<text text-anchor=\"middle\" x=\"729\" y=\"-111.8\" font-family=\"Helvetica,sans-Serif\" font-size=\"14.00\" fill=\"#000000\">samples = 872</text>\n<text text-anchor=\"middle\" x=\"729\" y=\"-96.8\" font-family=\"Helvetica,sans-Serif\" font-size=\"14.00\" fill=\"#000000\">value = 363.475</text>\n</g>\n<!-- 8&#45;&gt;9 -->\n<g id=\"edge9\" class=\"edge\">\n<title>8&#45;&gt;9</title>\n<path fill=\"none\" stroke=\"#000000\" d=\"M729,-192.9465C729,-184.776 729,-175.9318 729,-167.3697\"/>\n<polygon fill=\"#000000\" stroke=\"#000000\" points=\"732.5001,-167.13 729,-157.13 725.5001,-167.13 732.5001,-167.13\"/>\n</g>\n<!-- 12 -->\n<g id=\"node13\" class=\"node\">\n<title>12</title>\n<path fill=\"#f5d0b5\" stroke=\"#000000\" d=\"M1002,-157C1002,-157 896,-157 896,-157 890,-157 884,-151 884,-145 884,-145 884,-101 884,-101 884,-95 890,-89 896,-89 896,-89 1002,-89 1002,-89 1008,-89 1014,-95 1014,-101 1014,-101 1014,-145 1014,-145 1014,-151 1008,-157 1002,-157\"/>\n<text text-anchor=\"middle\" x=\"949\" y=\"-141.8\" font-family=\"Helvetica,sans-Serif\" font-size=\"14.00\" fill=\"#000000\">day &lt;= 23.5</text>\n<text text-anchor=\"middle\" x=\"949\" y=\"-126.8\" font-family=\"Helvetica,sans-Serif\" font-size=\"14.00\" fill=\"#000000\">mse = 16975.432</text>\n<text text-anchor=\"middle\" x=\"949\" y=\"-111.8\" font-family=\"Helvetica,sans-Serif\" font-size=\"14.00\" fill=\"#000000\">samples = 546</text>\n<text text-anchor=\"middle\" x=\"949\" y=\"-96.8\" font-family=\"Helvetica,sans-Serif\" font-size=\"14.00\" fill=\"#000000\">value = 198.388</text>\n</g>\n<!-- 8&#45;&gt;12 -->\n<g id=\"edge12\" class=\"edge\">\n<title>8&#45;&gt;12</title>\n<path fill=\"none\" stroke=\"#000000\" d=\"M790.2823,-198.0302C816.4405,-185.6645 847.205,-171.1213 874.6497,-158.1474\"/>\n<polygon fill=\"#000000\" stroke=\"#000000\" points=\"876.2735,-161.2512 883.8184,-153.8131 873.2818,-154.9227 876.2735,-161.2512\"/>\n</g>\n<!-- 10 -->\n<g id=\"node11\" class=\"node\">\n<title>10</title>\n<path fill=\"#e58139\" stroke=\"#000000\" d=\"M710,-53C710,-53 604,-53 604,-53 598,-53 592,-47 592,-41 592,-41 592,-12 592,-12 592,-6 598,0 604,0 604,0 710,0 710,0 716,0 722,-6 722,-12 722,-12 722,-41 722,-41 722,-47 716,-53 710,-53\"/>\n<text text-anchor=\"middle\" x=\"657\" y=\"-37.8\" font-family=\"Helvetica,sans-Serif\" font-size=\"14.00\" fill=\"#000000\">mse = 30255.223</text>\n<text text-anchor=\"middle\" x=\"657\" y=\"-22.8\" font-family=\"Helvetica,sans-Serif\" font-size=\"14.00\" fill=\"#000000\">samples = 844</text>\n<text text-anchor=\"middle\" x=\"657\" y=\"-7.8\" font-family=\"Helvetica,sans-Serif\" font-size=\"14.00\" fill=\"#000000\">value = 365.314</text>\n</g>\n<!-- 9&#45;&gt;10 -->\n<g id=\"edge10\" class=\"edge\">\n<title>9&#45;&gt;10</title>\n<path fill=\"none\" stroke=\"#000000\" d=\"M703.6155,-88.9777C696.92,-80.0039 689.6865,-70.3089 682.961,-61.295\"/>\n<polygon fill=\"#000000\" stroke=\"#000000\" points=\"685.7427,-59.1704 676.9574,-53.2485 680.1323,-63.3565 685.7427,-59.1704\"/>\n</g>\n<!-- 11 -->\n<g id=\"node12\" class=\"node\">\n<title>11</title>\n<path fill=\"#eb9c64\" stroke=\"#000000\" d=\"M858,-53C858,-53 752,-53 752,-53 746,-53 740,-47 740,-41 740,-41 740,-12 740,-12 740,-6 746,0 752,0 752,0 858,0 858,0 864,0 870,-6 870,-12 870,-12 870,-41 870,-41 870,-47 864,-53 858,-53\"/>\n<text text-anchor=\"middle\" x=\"805\" y=\"-37.8\" font-family=\"Helvetica,sans-Serif\" font-size=\"14.00\" fill=\"#000000\">mse = 26591.749</text>\n<text text-anchor=\"middle\" x=\"805\" y=\"-22.8\" font-family=\"Helvetica,sans-Serif\" font-size=\"14.00\" fill=\"#000000\">samples = 28</text>\n<text text-anchor=\"middle\" x=\"805\" y=\"-7.8\" font-family=\"Helvetica,sans-Serif\" font-size=\"14.00\" fill=\"#000000\">value = 308.036</text>\n</g>\n<!-- 9&#45;&gt;11 -->\n<g id=\"edge11\" class=\"edge\">\n<title>9&#45;&gt;11</title>\n<path fill=\"none\" stroke=\"#000000\" d=\"M755.7948,-88.9777C762.8622,-80.0039 770.4976,-70.3089 777.5967,-61.295\"/>\n<polygon fill=\"#000000\" stroke=\"#000000\" points=\"780.4963,-63.2701 783.9338,-53.2485 774.997,-58.9391 780.4963,-63.2701\"/>\n</g>\n<!-- 13 -->\n<g id=\"node14\" class=\"node\">\n<title>13</title>\n<path fill=\"#f4c8a9\" stroke=\"#000000\" d=\"M998,-53C998,-53 900,-53 900,-53 894,-53 888,-47 888,-41 888,-41 888,-12 888,-12 888,-6 894,0 900,0 900,0 998,0 998,0 1004,0 1010,-6 1010,-12 1010,-12 1010,-41 1010,-41 1010,-47 1004,-53 998,-53\"/>\n<text text-anchor=\"middle\" x=\"949\" y=\"-37.8\" font-family=\"Helvetica,sans-Serif\" font-size=\"14.00\" fill=\"#000000\">mse = 16734.34</text>\n<text text-anchor=\"middle\" x=\"949\" y=\"-22.8\" font-family=\"Helvetica,sans-Serif\" font-size=\"14.00\" fill=\"#000000\">samples = 200</text>\n<text text-anchor=\"middle\" x=\"949\" y=\"-7.8\" font-family=\"Helvetica,sans-Serif\" font-size=\"14.00\" fill=\"#000000\">value = 215.02</text>\n</g>\n<!-- 12&#45;&gt;13 -->\n<g id=\"edge13\" class=\"edge\">\n<title>12&#45;&gt;13</title>\n<path fill=\"none\" stroke=\"#000000\" d=\"M949,-88.9777C949,-80.7364 949,-71.887 949,-63.5153\"/>\n<polygon fill=\"#000000\" stroke=\"#000000\" points=\"952.5001,-63.2484 949,-53.2485 945.5001,-63.2485 952.5001,-63.2484\"/>\n</g>\n<!-- 14 -->\n<g id=\"node15\" class=\"node\">\n<title>14</title>\n<path fill=\"#f6d5bc\" stroke=\"#000000\" d=\"M1146,-53C1146,-53 1040,-53 1040,-53 1034,-53 1028,-47 1028,-41 1028,-41 1028,-12 1028,-12 1028,-6 1034,0 1040,0 1040,0 1146,0 1146,0 1152,0 1158,-6 1158,-12 1158,-12 1158,-41 1158,-41 1158,-47 1152,-53 1146,-53\"/>\n<text text-anchor=\"middle\" x=\"1093\" y=\"-37.8\" font-family=\"Helvetica,sans-Serif\" font-size=\"14.00\" fill=\"#000000\">mse = 16862.475</text>\n<text text-anchor=\"middle\" x=\"1093\" y=\"-22.8\" font-family=\"Helvetica,sans-Serif\" font-size=\"14.00\" fill=\"#000000\">samples = 346</text>\n<text text-anchor=\"middle\" x=\"1093\" y=\"-7.8\" font-family=\"Helvetica,sans-Serif\" font-size=\"14.00\" fill=\"#000000\">value = 188.775</text>\n</g>\n<!-- 12&#45;&gt;14 -->\n<g id=\"edge14\" class=\"edge\">\n<title>12&#45;&gt;14</title>\n<path fill=\"none\" stroke=\"#000000\" d=\"M999.769,-88.9777C1014.3898,-79.1798 1030.2933,-68.5222 1044.7565,-58.8298\"/>\n<polygon fill=\"#000000\" stroke=\"#000000\" points=\"1046.7264,-61.723 1053.0852,-53.2485 1042.8295,-55.908 1046.7264,-61.723\"/>\n</g>\n</g>\n</svg>\n"
          },
          "metadata": {
            "tags": []
          },
          "execution_count": 291
        }
      ]
    },
    {
      "cell_type": "markdown",
      "metadata": {
        "id": "Ks03J8QLfCvk"
      },
      "source": [
        "**30. Visualisasikan decision tree (OPTIONAL Akan memakan banyak RAM dan CPU sehingga jalankan apabila komputer anda kuat)**"
      ]
    },
    {
      "cell_type": "code",
      "metadata": {
        "id": "oZ3HpnufgPo6"
      },
      "source": [
        "# Jalankan jika RAM dan CPU anda cukup besar\n",
        "# viz = dtreeviz(dt,\n",
        "#                X_train.values,\n",
        "#                y_train.values,\n",
        "#                target_name='Bike Demand',  # this name will be displayed at the leaf node\n",
        "#                feature_names=X_train.columns\n",
        "#               )"
      ],
      "execution_count": null,
      "outputs": []
    },
    {
      "cell_type": "code",
      "metadata": {
        "id": "VMiUdsMphSqf"
      },
      "source": [
        "# Jalankan jika RAM dan CPU anda cukup besar\n",
        "# viz"
      ],
      "execution_count": null,
      "outputs": []
    },
    {
      "cell_type": "markdown",
      "metadata": {
        "id": "SDvm6F4YjnFY"
      },
      "source": [
        "<p align = \"justify\">\n",
        "Python memiliki suatu package untuk memvisualisasikan decision tree beserta dengan split regionnya yaitu dtreeviz. Package ini cukup berat jadi apabila anda menggunakan komputer pribadi pastikan RAM anda minimal 8 GB. Dapat dilihat bahwasannya model mula-mula memisahkan berdasarkan apakah jam sekarang adalah jam Go-Home atau bukan lalu dilihat apakah sekarang musim semi atau bukan. Jika keduanya iya maka akan dicek sedang holiday atau bukan jika ya maka demand diperkirakan sebesar 359.19 jika bukan maka demand diperkirakan sebesar 406.67. Cukup logis jika kita perhatikan aturan if-else dari decision tree ini karena hasilnya sudah sesuai dengan analisis kita sebelumnya. Hanya saja decision tree yang anda lihat ini merupakan decision tree yang disederhanakan (hanya 3 max depth) karena jika menampilkan decision tree yang full akan membuat laptop anda hang. Untuk melihat fitur apa yang paling penting dapat menjalankan perintah di bawah ini.\n",
        "</p>"
      ]
    },
    {
      "cell_type": "markdown",
      "metadata": {
        "id": "bjpY2Ir4fObq"
      },
      "source": [
        "**31. Lihat mana variable yang paling penting dari decision tree yang dibuat**"
      ]
    },
    {
      "cell_type": "code",
      "metadata": {
        "id": "mPGbiFz4gjaI",
        "colab": {
          "base_uri": "https://localhost:8080/",
          "height": 297
        },
        "outputId": "1c886c5d-96fc-4618-c2f3-992df17c37c4"
      },
      "source": [
        "from sklearn.inspection import permutation_importance\n",
        "\n",
        "dt = DecisionTreeRegressor(criterion='mse', random_state=15)\n",
        "dt.fit(X_train, y_train)\n",
        "\n",
        "result = permutation_importance(dt, X_train, y_train, n_repeats=20,\n",
        "                                random_state=15, n_jobs=-1)\n",
        "\n",
        "sorted_idx = result.importances_mean.argsort()\n",
        "\n",
        "fig, ax = plt.subplots()\n",
        "ax.boxplot(result.importances[sorted_idx].T,\n",
        "           vert=False, labels=X_train.columns[sorted_idx])\n",
        "ax.set_title(\"Permutation Importances (train set)\")\n",
        "fig.tight_layout()\n",
        "plt.show()\n",
        "\n",
        "\n"
      ],
      "execution_count": null,
      "outputs": [
        {
          "output_type": "display_data",
          "data": {
            "image/png": "[encoded data removed]",
            "text/plain": [
              "<Figure size 432x288 with 1 Axes>"
            ]
          },
          "metadata": {
            "tags": [],
            "needs_background": "light"
          }
        }
      ]
    },
    {
      "cell_type": "markdown",
      "metadata": {
        "id": "h3Xo0y_cmUMH"
      },
      "source": [
        "<p align=\"justify\">\n",
        "Dapat dilihat fitur yang paling penting adalah ang berkaitan dengan waktu serta temperatur. Pemerintah dapat menggunakan model lasso ataupun decision tree regressor untuk menentukan apakah pada waktu tertentu permintaan cukup kecil sehingga beberapa sepeda bisa kita lakukan maintanance. Lalu, kita juga dapat melihat dari model lasso bahwasannya tren dari permintaan cenderung naik. Hal ini ditandai dengan variabel year yang memiliki koefisien positif.\n",
        "</p>"
      ]
    },
    {
      "cell_type": "markdown",
      "metadata": {
        "id": "mJRn3gYTaHRy"
      },
      "source": [
        "## Model Evaluation"
      ]
    },
    {
      "cell_type": "markdown",
      "metadata": {
        "id": "yvM-gLn0aK9Y"
      },
      "source": [
        "<p align=\"justify\">\n",
        "Pertanyaan selanjutnya adalah dari dua model di atas manakah yang dapat dipercaya? untuk menjawab hal ini perlu dilakukan evaluasi model. Kali ini evaluasi akan dilakukan menggunakan RMSE (root mean squared error) yaitu $\\sqrt{\\sum_i^n(\\hat{y}_i - y_i)^2}$. RMSE mudah sekali untuk diinterpretasikan jika bernilai satu artinya model rata-rata salah memprediksi nilai demand sebanyak satu satuan. Semakin kecil nilai RMSE maka akan semakin baik model yang kita miliki. Mula-mula kita akan mengecek nilai RMSE terhadap validation dataset. Setelah itu baru kita cek terhadap test data set.\n",
        "</p>"
      ]
    },
    {
      "cell_type": "markdown",
      "metadata": {
        "id": "mBzGEoYEfaRY"
      },
      "source": [
        "**32. Evaluasi model dengan menggunakan data validasi**"
      ]
    },
    {
      "cell_type": "code",
      "metadata": {
        "id": "3CH68MdTY57d",
        "colab": {
          "base_uri": "https://localhost:8080/"
        },
        "outputId": "a2079364-2238-4c02-c629-a143852aefa1"
      },
      "source": [
        "from sklearn.metrics import mean_squared_error # mengambil package untuk menghitung error\n",
        "\n",
        "#memprediksi nilai validation set dengan model yang telah dibuat\n",
        "y_pred_la = model_la.predict(X_val)\n",
        "y_pred_dt = dt.predict(X_val)\n",
        "\n",
        "#menghitung nilai performansi model terhadap data validation\n",
        "print(\"RMSE Lasso Regression (Validation): \", np.sqrt(mean_squared_error(y_val,y_pred_la)))\n",
        "print(\"RMSE Regression Tree (Validation): \", np.sqrt(mean_squared_error(y_val,y_pred_dt)))\n"
      ],
      "execution_count": null,
      "outputs": [
        {
          "output_type": "stream",
          "text": [
            "RMSE Lasso Regression (Validation):  133.68473656941202\n",
            "RMSE Regression Tree (Validation):  73.73338402053886\n"
          ],
          "name": "stdout"
        }
      ]
    },
    {
      "cell_type": "markdown",
      "metadata": {
        "id": "JUzdlXdKoSsk"
      },
      "source": [
        "<p align=\"justify\">\n",
        "Dapat dilihat bahwasannya model regression tree memiliki performa yang jauh lebih baik dibandingkan lasso baik pada validation set. Alhasil dapat dikatakan untuk melihat apakah pada hari dan jam tertentu cocok untuk melakukan <i>maintanance</i> dapat digunakan regression tree.\n",
        "</p>\n",
        "\n",
        "<p align=\"justify\">\n",
        "Kesimpulannya manajemen memang harus menyiapkan sepeda lebih banyak berhubung pada saat eksplorasi data terlihat bahwasannya tren permintaan sepeda cenderung meningkat. Selain itu, terlihat juga pada model lasso variabel year memiliki koefisien positif artinya semakin besar tahun maka permintaan akan semakin meningkat. Lalu, pada decision tree variabel day serta year juga menjadi variabel yang penting. Apabila kita melihat decsion rule yang dihasilkan dapat kita perkirakan jika day dan year semakin tinggi begitu juga permintaan akan sepeda. Untuk mengetahui apakah pada kondisi tertentu dapat dilakukan maintanance, perusahaan dapat mencoba-coba memasukan nilai pada model dan melihat berapa permintaan dari sepeda pada kondisi dan tanggal tersebut.\n",
        "</p>"
      ]
    }
  ]
}